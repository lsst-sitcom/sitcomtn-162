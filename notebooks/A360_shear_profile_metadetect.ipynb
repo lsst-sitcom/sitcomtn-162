{
 "cells": [
  {
   "cell_type": "markdown",
   "id": "395275ca-ca04-40a8-9529-81a813c885f9",
   "metadata": {},
   "source": [
    "# A360 Metadetection Shear"
   ]
  },
  {
   "cell_type": "markdown",
   "id": "99756233-b748-4c6c-aa98-9428b51f3625",
   "metadata": {},
   "source": [
    "Contact author: Miranda Gorsuch\n",
    "\n",
    "Create a shear profile for A360 using cell-based coadds and `metadetection`. Many parts are from the [Shear profile around A360 using ComCam HSM shapes](https://github.com/lsst-sitcom/comcam_clusters/blob/main/ACO360_WL_HSCcalib_CLMM.ipynb) notebook, especially the identification of red sequence galaxies and use of CLMM to create the tangential shear plot.\n",
    "\n",
    "Last working weekly: `w_2025_28`\n",
    "\n",
    "Container Size: 16 GB (large)"
   ]
  },
  {
   "cell_type": "markdown",
   "id": "363040bb-aa56-4815-9c09-56e4cc677e4e",
   "metadata": {},
   "source": [
    "# Preparing data"
   ]
  },
  {
   "cell_type": "markdown",
   "id": "a5827c89-8fa5-42a9-a6d5-f9fcc292732f",
   "metadata": {},
   "source": [
    "## Imports & Definitions"
   ]
  },
  {
   "cell_type": "code",
   "execution_count": null,
   "id": "839205e9-57a1-4070-8e08-2ed667bdc6f6",
   "metadata": {},
   "outputs": [],
   "source": [
    "# locally install modeling packages (only do once, if not already installed)\n",
    "# pip install pyccl\n",
    "# pip install clmm"
   ]
  },
  {
   "cell_type": "code",
   "execution_count": null,
   "id": "e0261814-f200-4828-a7a7-683c066cdb8f",
   "metadata": {},
   "outputs": [],
   "source": [
    "from lsst.daf.butler import Butler\n",
    "\n",
    "import numpy as np\n",
    "import pandas as pd\n",
    "from matplotlib import pyplot as plt\n",
    "import matplotlib\n",
    "\n",
    "import astropy.units as u\n",
    "from astropy.table import Table\n",
    "from astropy.coordinates import SkyCoord\n",
    "\n",
    "import gc\n",
    "\n",
    "from lsst.skymap import Index2D\n",
    "import lsst.afw.geom as afwGeom\n",
    "import lsst.afw.math as afwMath\n",
    "import lsst.afw.image as afwImage\n",
    "import lsst.geom as geom\n",
    "import lsst.afw.display.rgb as afwRgb\n",
    "\n",
    "# for stats control\n",
    "from lsst.drp.tasks.assemble_cell_coadd import AssembleCellCoaddTask\n",
    "import lsst.meas.algorithms as meas\n",
    "\n",
    "from lsst.afw.geom.ellipses import Quadrupole, SeparableDistortionTraceRadius\n",
    "\n",
    "from numpy.linalg import inv\n",
    "import scipy.stats as stats\n",
    "\n",
    "import clmm\n",
    "from clmm import GalaxyCluster, ClusterEnsemble, GCData, Cosmology\n",
    "from clmm import Cosmology, utils\n",
    "\n",
    "cosmo = clmm.Cosmology(H0=70.0, Omega_dm0=0.3 - 0.045, Omega_b0=0.045, Omega_k0=0.0)\n",
    "\n",
    "%matplotlib inline"
   ]
  },
  {
   "cell_type": "code",
   "execution_count": null,
   "id": "fa9a5696-707d-40ff-9cf6-7a571cdb1b9c",
   "metadata": {},
   "outputs": [],
   "source": [
    "REPO = '/sdf/data/rubin/repo/main/'\n",
    "butler = Butler(REPO)\n",
    "registry = butler.registry\n",
    "\n",
    "collection = 'u/mgorsuch/metadetect/a360_3_band/20250707T015251Z' # with S/N fix\n",
    "cell_collection = 'u/mgorsuch/a360_cell_coadd/20250513T044026Z' # cells used as input for r and i\n",
    "cell_collection_g = 'u/mgorsuch/a360_cell_coadd_g/20250611T144112Z' # cells used as input for g"
   ]
  },
  {
   "cell_type": "code",
   "execution_count": null,
   "id": "6dc9883f-ec84-4e04-a0a5-abb6a07bf16e",
   "metadata": {},
   "outputs": [],
   "source": [
    "# create and configure stats control object as seen in assemble_cell_coadd task\n",
    "statsCtrl = afwMath.StatisticsControl()\n",
    "statsCtrl.setAndMask(afwImage.Mask.getPlaneBitMask((\"BAD\", \"NO_DATA\", \"SAT\"))) # use default PlaneBitMasks from task\n",
    "statsCtrl.setNanSafe(True)"
   ]
  },
  {
   "cell_type": "markdown",
   "id": "e99afac3-ef0c-4182-a354-ac0831da584e",
   "metadata": {},
   "source": [
    "## Read in data"
   ]
  },
  {
   "cell_type": "markdown",
   "id": "747b0aa2-5d36-4a1e-b809-390b1f449386",
   "metadata": {},
   "source": [
    "Metadetect outputs tables for each patch. Read in each table and compile them together."
   ]
  },
  {
   "cell_type": "code",
   "execution_count": null,
   "id": "67db6b7b-1959-4353-a1eb-0cf5f92f041e",
   "metadata": {},
   "outputs": [],
   "source": [
    "# Position in degrees of the BCG for A360\n",
    "ra_bcg = 37.865017\n",
    "dec_bcg = 6.982205"
   ]
  },
  {
   "cell_type": "markdown",
   "id": "e4944f60-b0db-4c0c-be53-0ef8b8eb4945",
   "metadata": {},
   "source": [
    "The cell below is for finding the tracts/patches that are within the specified radius of the BCG. This is already incorporated in the butler collection used for the `metadetect` output."
   ]
  },
  {
   "cell_type": "code",
   "execution_count": null,
   "id": "878c1736-7941-471c-a134-d899f17855be",
   "metadata": {
    "jupyter": {
     "source_hidden": true
    }
   },
   "outputs": [],
   "source": [
    "# skymap = butler.get('skyMap', skymap='lsst_cells_v1', collections='LSSTComCam/runs/DRP/DP1/w_2025_06/DM-48810')\n",
    "\n",
    "# # Looking for all patches in delta deg region around it\n",
    "# delta = 0.5\n",
    "# center = geom.SpherePoint(ra_bcg, dec_bcg, geom.degrees)\n",
    "# ra_min, ra_max = ra_bcg - delta, ra_bcg + delta\n",
    "# dec_min, dec_max = dec_bcg - delta, dec_bcg + delta\n",
    "\n",
    "# ra_range = (ra_min, ra_max)\n",
    "# dec_range = (dec_min, dec_max)\n",
    "# radec = [geom.SpherePoint(ra_range[0], dec_range[0], geom.degrees),\n",
    "#          geom.SpherePoint(ra_range[0], dec_range[1], geom.degrees),\n",
    "#          geom.SpherePoint(ra_range[1], dec_range[0], geom.degrees),\n",
    "#          geom.SpherePoint(ra_range[1], dec_range[1], geom.degrees)]\n",
    "\n",
    "# tractPatchList = skymap.findTractPatchList(radec)\n",
    "\n",
    "# find dataset refs that are within the tract/patch list above\n",
    "# datasetRefs_shear = []\n",
    "# datasetRefs_catalog = []\n",
    "\n",
    "# for tractPatch in tractPatchList:\n",
    "#     tract = tractPatch[0]\n",
    "#     patchInfo = tractPatch[1]\n",
    "#     for patch in patchInfo:\n",
    "#         datasetRefs_shear.append(butler.query_datasets('ShearObject', \n",
    "#                                                  collections=collection,\n",
    "#                                                  tract=tract.tract_id,\n",
    "#                                                  patch=patch.sequential_index))\n",
    "#         datasetRefs_catalog.append(butler.query_datasets('objectTable', \n",
    "#                                                  collections=default_collection,\n",
    "#                                                  tract=tract.tract_id,\n",
    "#                                                  patch=patch.sequential_index))"
   ]
  },
  {
   "cell_type": "code",
   "execution_count": null,
   "id": "ef70703c-9206-4e9e-8824-be60be1e71a3",
   "metadata": {},
   "outputs": [],
   "source": [
    "datasetRefs_shear = []\n",
    "overlap_patches_10463 = [0, 10, 20, 30, 40, 50, 60, 70, 80, 90, 100]\n",
    "tract_patch_list = [] # only used for plotting distribution of input images\n",
    "\n",
    "for ref in butler.registry.queryDatasets('ShearObject', collections=collection):\n",
    "\n",
    "    # the only parts of these tracts within 0.5 radius overlap with already included patches\n",
    "    if ref.dataId['tract'] == 10704 or ref.dataId['tract'] == 10705:\n",
    "        continue\n",
    "\n",
    "    # these column of patches overlap with patches already in tract 10464\n",
    "    if ref.dataId['tract'] == 10463 and ref.dataId['patch'] in overlap_patches_10463:\n",
    "        continue\n",
    "    \n",
    "    datasetRefs_shear.append(butler.query_datasets('ShearObject', \n",
    "                                                     collections=collection,\n",
    "                                                     skymap = 'lsst_cells_v1',\n",
    "                                                     tract=ref.dataId['tract'],\n",
    "                                                     patch=ref.dataId['patch']))\n",
    "\n",
    "    tract_patch_list.append([ref.dataId['tract'], ref.dataId['patch']])"
   ]
  },
  {
   "cell_type": "markdown",
   "id": "99040123-8d3c-47f3-a89f-78214f60aedb",
   "metadata": {},
   "source": [
    "Combine the data from each patch into a single table."
   ]
  },
  {
   "cell_type": "code",
   "execution_count": null,
   "id": "c33151fd-dfd0-4b35-a572-2cb9bf86d8b1",
   "metadata": {},
   "outputs": [],
   "source": [
    "shear_table_list = []\n",
    "\n",
    "for i, ref in enumerate(datasetRefs_shear):\n",
    "    shear_data_patch = butler.get(ref[0])\n",
    "    shear_table_patch = shear_data_patch.to_pandas()\n",
    "    shear_table_list.append(shear_table_patch)\n",
    "\n",
    "shear_table = pd.concat(shear_table_list)\n",
    "\n",
    "# remove unused tables to clear up memory\n",
    "del shear_table_list\n",
    "gc.collect()"
   ]
  },
  {
   "cell_type": "markdown",
   "id": "e099d091-f441-46c6-92f3-0933ee752d82",
   "metadata": {},
   "source": [
    "### Remove duplicate objects from patch overlap"
   ]
  },
  {
   "cell_type": "code",
   "execution_count": null,
   "id": "08a1aeae-3a35-4acc-adeb-66129f3be517",
   "metadata": {},
   "outputs": [],
   "source": [
    "# copy table prior to duplicate removal for a later validation plot\n",
    "shear_table_dup = shear_table.copy()"
   ]
  },
  {
   "cell_type": "code",
   "execution_count": null,
   "id": "e190d2a7-f12b-463f-8e47-3b7ad5f2e0af",
   "metadata": {},
   "outputs": [],
   "source": [
    "# remove objects in outer ring of cells in each patch since patch overlap is two cells\n",
    "# TO-DO: exempt rows that don't overlap with other patches, e.g. patches on the edge of the field\n",
    "shear_table = shear_table[shear_table['cell_x']!=0]\n",
    "shear_table = shear_table[shear_table['cell_x']!=21]\n",
    "shear_table = shear_table[shear_table['cell_y']!=0]\n",
    "shear_table = shear_table[shear_table['cell_y']!=21]\n",
    "print(\"Number of rows after removing most duplicate cells: \", len(shear_table))\n",
    "\n",
    "# some additional tract/patch overlap appears to have a 4 cell overlap\n",
    "filt1 = shear_table['tract'] == 10464\n",
    "filt1 &= shear_table['patch_x'] == 9\n",
    "filt1 &= shear_table['cell_x'] == 20\n",
    "shear_table = shear_table[np.invert(filt1)]\n",
    "\n",
    "filt2 = shear_table['tract'] == 10463\n",
    "filt2 &= shear_table['patch_x'] == 1\n",
    "filt2 &= shear_table['cell_x'] == 1\n",
    "shear_table = shear_table[np.invert(filt2)]\n",
    "print(\"Number of rows after removing patch overlap in 10464: \", len(shear_table))"
   ]
  },
  {
   "cell_type": "code",
   "execution_count": null,
   "id": "dd524182-3fa7-4b8d-ba3a-5cd3c0075347",
   "metadata": {},
   "outputs": [],
   "source": [
    "# remove overlapping rows due to patch overlap    \n",
    "print(\"Number of rows prior to removing duplicates: \", len(shear_table))\n",
    "shear_table = shear_table.drop_duplicates(subset=['shear_type', 'ra', 'dec']) # each object will potentially have several sheared images\n",
    "print(\"Number of rows after removing duplicates: \", len(shear_table))"
   ]
  },
  {
   "cell_type": "markdown",
   "id": "da3b6eb3-a14f-4b89-a4b0-a38a9214fde6",
   "metadata": {},
   "source": [
    "### Add useful columns"
   ]
  },
  {
   "cell_type": "code",
   "execution_count": null,
   "id": "269d936a-90e3-4b6c-8eda-27cdf7e4dd9c",
   "metadata": {},
   "outputs": [],
   "source": [
    "# make new columns to convert nJy fluxes to AB magnitudes\n",
    "t1 = Table.from_pandas(shear_table)\n",
    "\n",
    "t1['wmom_band_mag_g'] = (t1['wmom_band_flux_g']*u.nJy).to(u.ABmag)\n",
    "t1['wmom_band_mag_r'] = (t1['wmom_band_flux_r']*u.nJy).to(u.ABmag)\n",
    "t1['wmom_band_mag_i'] = (t1['wmom_band_flux_i']*u.nJy).to(u.ABmag)\n",
    "t1['wmom_color_mag_g-r'] = t1['wmom_band_mag_g']-t1['wmom_band_mag_r']\n",
    "t1['wmom_color_mag_g-i'] = t1['wmom_band_mag_g']-t1['wmom_band_mag_i']\n",
    "t1['wmom_color_mag_r-i'] = t1['wmom_band_mag_r']-t1['wmom_band_mag_i']\n",
    "\n",
    "shear_table = t1.to_pandas()\n",
    "\n",
    "# Add columns for distance from BCG\n",
    "c1 = SkyCoord(shear_table['ra'].values*u.deg, shear_table['dec'].values*u.deg)\n",
    "c2 = SkyCoord(ra_bcg*u.deg, dec_bcg*u.deg)\n",
    "sep = c1.separation(c2)\n",
    "\n",
    "shear_table['deg_sep'] = sep.value\n",
    "\n",
    "shear_table['mpc_sep'] = cosmo.eval_da(0.22) * shear_table['deg_sep'] * np.pi/180\n",
    "\n",
    "# polar angle of source galaxy relative to BCG, from -pi to pi\n",
    "shear_table['phi'] = np.arctan2(shear_table['dec'] - dec_bcg, (ra_bcg - shear_table['ra'])*np.cos(np.deg2rad(dec_bcg)))\n",
    "\n",
    "# calculate tangential / cross shear components for each galaxy\n",
    "# note that these shears need to be selected for ONLY the 'ns' (no artificial shear type)\n",
    "shear_table['shear_t'] = -shear_table['wmom_g_1'] * np.cos(2*shear_table['phi']) \\\n",
    "                                - shear_table['wmom_g_2'] * np.sin(2*shear_table['phi'])\n",
    "shear_table['shear_x'] = shear_table['wmom_g_1'] * np.sin(2*shear_table['phi']) \\\n",
    "                                - shear_table['wmom_g_2'] * np.cos(2*shear_table['phi'])"
   ]
  },
  {
   "cell_type": "markdown",
   "id": "c6e6eab9-7f52-4e09-8dc6-a1cab8218d57",
   "metadata": {},
   "source": [
    "## Apply `metadetect` flags\n",
    "\n",
    "Anything that is flagged should be removed."
   ]
  },
  {
   "cell_type": "code",
   "execution_count": null,
   "id": "20cc4309-3993-4e6b-a421-08fa9bd458e2",
   "metadata": {},
   "outputs": [],
   "source": [
    "meta_filter = shear_table['wmom_flags']==False\n",
    "meta_filter &= shear_table['psfrec_flags']==False\n",
    "meta_filter &= shear_table['wmom_psf_flags']==False\n",
    "meta_filter &= shear_table['wmom_obj_flags']==False\n",
    "meta_filter &= shear_table['wmom_T_flags']==False\n",
    "meta_filter &= shear_table['wmom_band_flux_flags_r']==False\n",
    "meta_filter &= shear_table['wmom_band_flux_flags_i']==False\n",
    "\n",
    "shear_table = shear_table[meta_filter]\n",
    "\n",
    "print(\"Number of rows after removing metadetect flags: \", len(shear_table))\n",
    "print(\"Number of rows in ns after removing metadetect flags: \", len(shear_table[shear_table['shear_type']=='ns']))\n",
    "\n",
    "shear_table_md_cuts = shear_table.copy()"
   ]
  },
  {
   "cell_type": "markdown",
   "id": "e5c85b72-c51d-4db8-9d38-f4501996fb1e",
   "metadata": {},
   "source": [
    "## Identify and remove cluster member galaxies"
   ]
  },
  {
   "cell_type": "code",
   "execution_count": null,
   "id": "edfd11ed-d22c-4a8a-b4f0-e475c34ec5ed",
   "metadata": {},
   "outputs": [],
   "source": [
    "# RS filter parameters\n",
    "point_size = 0.8\n",
    "point_alpha = 0.7\n",
    "\n",
    "r_left = 19\n",
    "r_right = 23\n",
    "r_down_left = 0.45\n",
    "r_up_left = 0.7\n",
    "r_down_right = 0.3\n",
    "r_up_right = 0.55\n",
    "r_slope = (r_down_right - r_down_left) / (r_right - r_left)\n",
    "\n",
    "g_left = 20\n",
    "g_right = 23\n",
    "g_down_left = 1.8\n",
    "g_up_left = 2.1\n",
    "g_down_right = 1.5\n",
    "g_up_right = 1.8\n",
    "g_slope = (g_down_right - g_down_left) / (g_right - g_left)\n",
    "\n",
    "brightness_cut = 23"
   ]
  },
  {
   "cell_type": "markdown",
   "id": "3e92058a-4a6d-48f5-9e6d-0a2d323e44da",
   "metadata": {},
   "source": [
    "### RS Filter (one cell)\n",
    "\n",
    "For applying RS cuts without running all of the visual inspection cells (this cell is based on those visual inspections)."
   ]
  },
  {
   "cell_type": "code",
   "execution_count": null,
   "id": "a2e0442f-8f48-408d-9cd7-c14fab7aefe1",
   "metadata": {},
   "outputs": [],
   "source": [
    "shear_table_wl = shear_table[shear_table['deg_sep'] < 0.5] # catalog for WL measurements\n",
    "print(\"Number of rows after applying < 0.5 deg from center: \", len(shear_table_wl))\n",
    "\n",
    "rs_hi_ri = r_up_left + r_slope * (shear_table_wl['wmom_band_mag_r']-r_left)\n",
    "rs_low_ri = r_down_left + r_slope * (shear_table_wl['wmom_band_mag_r']-r_left)\n",
    "ri_filt = shear_table_wl['wmom_color_mag_r-i'] > rs_low_ri\n",
    "ri_filt &= shear_table_wl['wmom_color_mag_r-i'] < rs_hi_ri\n",
    "ri_filt &= shear_table_wl['wmom_band_mag_r'] < brightness_cut_r\n",
    "\n",
    "rs_hi_gi = g_up_left + g_slope * (shear_table_wl['wmom_band_mag_g']-g_left)\n",
    "rs_low_gi = g_down_left + g_slope * (shear_table_wl['wmom_band_mag_g']-g_left)\n",
    "gi_filt = shear_table_wl['wmom_color_mag_g-i'] > rs_low_gi\n",
    "gi_filt &= shear_table_wl['wmom_color_mag_g-i'] < rs_hi_gi\n",
    "gi_filt &= shear_table_wl['wmom_band_mag_g'] < brightness_cut_g\n",
    "\n",
    "rs_filt = np.logical_or(ri_filt, gi_filt)\n",
    "RS_id_list = shear_table_wl['id'][rs_filt]\n",
    "\n",
    "# Filter out rows where the 'dataid' column matches any value in RS_id_list\n",
    "shear_table_wl = shear_table_wl[~shear_table_wl['id'].isin(RS_id_list)]\n",
    "shear_table_wl_ns = shear_table_wl[shear_table_wl['shear_type']=='ns']\n",
    "\n",
    "print(\"Number of rows after 0.5 degree cut and RS cuts: \", len(shear_table_wl))\n",
    "print(\"Number of rows after 0.5 degree cut and RS cuts, ns only: \", len(shear_table_wl_ns))\n",
    "\n",
    "shear_table_rs_cuts = shear_table_wl.copy()"
   ]
  },
  {
   "cell_type": "markdown",
   "id": "4979ee8f-3a7c-48be-a0c6-4a419f91b474",
   "metadata": {
    "jp-MarkdownHeadingCollapsed": true
   },
   "source": [
    "### Visual Inspections\n",
    "\n",
    "Cuts are applied to all shear type catalogs, though only non-sheared are plotted. This section doesn't need to be run if the above cell was already run."
   ]
  },
  {
   "cell_type": "code",
   "execution_count": null,
   "id": "aeee97b5-fc7c-489a-ac76-d7d03ab02f7b",
   "metadata": {},
   "outputs": [],
   "source": [
    "# isolate no shear catalog\n",
    "shear_table_ns = shear_table[shear_table['shear_type']=='ns']\n",
    "\n",
    "# distribution of magnitudes prior to cuts\n",
    "fig, ax = plt.subplots(nrows=1, ncols=3, figsize=(12,4))\n",
    "ax[0].hist(shear_table_ns['wmom_band_mag_g'], bins=75)\n",
    "ax[0].set_title(\"g-band\")\n",
    "ax[0].vlines(x=25.7, ymin=0, ymax=50000, color='red')\n",
    "ax[1].hist(shear_table_ns['wmom_band_mag_r'], bins=75)\n",
    "ax[1].set_title(\"r-band\")\n",
    "ax[1].vlines(x=25.4, ymin=0, ymax=50000, color='red')\n",
    "ax[2].hist(shear_table_ns['wmom_band_mag_i'], bins=75)\n",
    "ax[2].set_title(\"i-band\")\n",
    "ax[2].vlines(x=25.1, ymin=0, ymax=50000, color='red')\n",
    "\n",
    "for ax in ax.reshape(-1):\n",
    "    ax.set_yscale('log')\n",
    "    ax.set_xlabel(\"AB Mag\")\n",
    "    ax.set_xlim(right=29)\n",
    "    ax.set_ylim(top=50000)\n",
    "\n",
    "plt.savefig('image_outputs_fix/object-magnitudes.png', bbox_inches='tight')\n",
    "plt.suptitle(\"Object Magnitudes\")"
   ]
  },
  {
   "cell_type": "markdown",
   "id": "3cfb544f-c7e8-430a-85e9-e70feca2c845",
   "metadata": {},
   "source": [
    "#### Color-Magnitude Plots"
   ]
  },
  {
   "cell_type": "code",
   "execution_count": null,
   "id": "29cea505-8707-4cca-9fbd-c7def5caec81",
   "metadata": {},
   "outputs": [],
   "source": [
    "# Filter objects to within < 0.1 deg of cluster center\n",
    "filt = shear_table['deg_sep'] < 0.1 # stay close to cluster center for RS indentification\n",
    "shear_table_rs = shear_table[shear_table['deg_sep'] < 0.1] # catalog for RS identification\n",
    "print(\"Number of rows in after applying < 0.1 deg from center for all shear types: \", len(shear_table_rs))"
   ]
  },
  {
   "cell_type": "code",
   "execution_count": null,
   "id": "d4cfd1b9-4442-46d5-a95d-d15fd4f645e0",
   "metadata": {},
   "outputs": [],
   "source": [
    "shear_table_rs_ns = shear_table_rs[shear_table_rs['shear_type']=='ns']"
   ]
  },
  {
   "cell_type": "code",
   "execution_count": null,
   "id": "25c5c753-4140-4172-86b9-9abc3ba09216",
   "metadata": {},
   "outputs": [],
   "source": [
    "fig, axes = plt.subplots(1,2, figsize=(12,5))\n",
    "\n",
    "axes[0].scatter(shear_table_rs_ns['wmom_band_mag_r'], shear_table_rs_ns['wmom_color_mag_r-i'], \n",
    "           marker='.', s=point_size, alpha=point_alpha)\n",
    "axes[0].set_ylabel('r-i')\n",
    "axes[0].set_xlabel('r')\n",
    "\n",
    "axes[0].plot([r_left,r_right],[r_down_left,r_down_right], color='r', linewidth=0.7)\n",
    "axes[0].plot([r_left,r_right],[r_up_left,r_up_right], color='r', linewidth=0.7)\n",
    "axes[0].set_ylim([-1.5,2.5])\n",
    "axes[0].set_xlim([17,27])\n",
    "\n",
    "axes[1].scatter(shear_table_rs_ns['wmom_band_mag_g'], shear_table_rs_ns['wmom_color_mag_g-i'], \n",
    "           marker='.', s=point_size, alpha=point_alpha)\n",
    "axes[1].set_ylabel('g-i')\n",
    "axes[1].set_xlabel('g')\n",
    "\n",
    "axes[1].plot([g_left,g_right],[g_down_left,g_down_right], color='r', linewidth=0.7)\n",
    "axes[1].plot([g_left,g_right],[g_up_left,g_up_right], color='r', linewidth=0.7)\n",
    "axes[1].set_ylim([-0.5,3])\n",
    "axes[1].set_xlim([18,27])\n",
    "\n",
    "plt.suptitle(\"Color-Magnitude < 0.1 deg\")\n",
    "\n",
    "plt.savefig('image_outputs_fix/color-magnitude-0-1.png', bbox_inches='tight')\n",
    "plt.show()"
   ]
  },
  {
   "cell_type": "markdown",
   "id": "a9c2136f-58fb-4797-80b5-026d8977a300",
   "metadata": {},
   "source": [
    "Note that combining all catalogs causes a \"smeary\" look is due to the 5 sheared/unsheared images of the same object that are detected & measured in slightly different ways."
   ]
  },
  {
   "cell_type": "markdown",
   "id": "cfcc0b97-499f-47f3-a71e-731be727d8ea",
   "metadata": {},
   "source": [
    "#### Filter RS galaxies"
   ]
  },
  {
   "cell_type": "code",
   "execution_count": null,
   "id": "9a75de8d-9dbf-4572-862d-289acf125839",
   "metadata": {},
   "outputs": [],
   "source": [
    "rs_hi_ri = r_up_left + r_slope * (shear_table_rs['wmom_band_mag_r']-r_left)\n",
    "rs_low_ri = r_down_left + r_slope * (shear_table_rs['wmom_band_mag_r']-r_left)\n",
    "ri_filt = shear_table_rs['wmom_color_mag_r-i'] > rs_low_ri\n",
    "ri_filt &= shear_table_rs['wmom_color_mag_r-i'] < rs_hi_ri\n",
    "ri_filt &= shear_table_rs['wmom_band_mag_r'] < brightness_cut\n",
    "\n",
    "rs_hi_gi = g_up_left + g_slope * (shear_table_rs['wmom_band_mag_g']-g_left)\n",
    "rs_low_gi = g_down_left + g_slope * (shear_table_rs['wmom_band_mag_g']-g_left)\n",
    "gi_filt = shear_table_rs['wmom_color_mag_g-i'] > rs_low_gi\n",
    "gi_filt &= shear_table_rs['wmom_color_mag_g-i'] < rs_hi_gi\n",
    "gi_filt &= shear_table_rs['wmom_band_mag_g'] < brightness_cut\n",
    "\n",
    "# ns only, for plotting\n",
    "ri_filt_ns = np.logical_and(ri_filt, shear_table_rs['shear_type'] == 'ns')\n",
    "gi_filt_ns = np.logical_and(gi_filt, shear_table_rs['shear_type'] == 'ns')"
   ]
  },
  {
   "cell_type": "code",
   "execution_count": null,
   "id": "1f3c2301-0ddf-4945-97dd-5961c0c5f050",
   "metadata": {},
   "outputs": [],
   "source": [
    "fig, axes = plt.subplots(1,2, figsize=(12,5))\n",
    "\n",
    "axes[0].scatter(shear_table_rs_ns['wmom_band_mag_r'], shear_table_rs_ns['wmom_color_mag_r-i'], \n",
    "           marker='.', s=point_size) # all galaxies  \n",
    "axes[0].scatter(shear_table_rs['wmom_band_mag_r'][ri_filt_ns], \n",
    "           shear_table_rs['wmom_color_mag_r-i'][ri_filt_ns], \n",
    "           marker='.', s=point_size) #red sequence galaxies\n",
    "axes[0].set_ylabel('r-i')\n",
    "axes[0].set_xlabel('r')\n",
    "\n",
    "axes[0].plot([r_left,r_right],[r_down_left,r_down_right], color='r', linewidth=0.7)\n",
    "axes[0].plot([r_left,r_right],[r_up_left,r_up_right], color='r', linewidth=0.7)\n",
    "axes[0].set_ylim([-1.5,2.5])\n",
    "axes[0].set_xlim([17,27])\n",
    "\n",
    "axes[1].scatter(shear_table_rs_ns['wmom_band_mag_g'], shear_table_rs_ns['wmom_color_mag_g-i'], \n",
    "           marker='.', s=point_size) # all galaxies  \n",
    "axes[1].scatter(shear_table_rs['wmom_band_mag_g'][gi_filt_ns], \n",
    "           shear_table_rs['wmom_color_mag_g-i'][gi_filt_ns], \n",
    "           marker='.', s=point_size)\n",
    "axes[1].set_ylabel('g-i')\n",
    "axes[1].set_xlabel('g')\n",
    "\n",
    "axes[1].plot([g_left,g_right],[g_down_left,g_down_right], color='r', linewidth=0.7)\n",
    "axes[1].plot([g_left,g_right],[g_up_left,g_up_right], color='r', linewidth=0.7)\n",
    "axes[1].set_ylim([-0.5,3])\n",
    "axes[1].set_xlim([18,27])\n",
    "\n",
    "plt.suptitle(\"Color-Magnitude < 0.1 deg\\nCuts highlighted\")\n",
    "\n",
    "plt.savefig('image_outputs_fix/color-magnitude-0-1-orange.png', bbox_inches='tight')\n",
    "plt.show()"
   ]
  },
  {
   "cell_type": "markdown",
   "id": "66d75249-6381-4b77-bf0c-697a873c522f",
   "metadata": {},
   "source": [
    "Cut out the RS galaxies identified above."
   ]
  },
  {
   "cell_type": "code",
   "execution_count": null,
   "id": "763f7c1b-27ea-4e8c-b3eb-55a1af79b1d1",
   "metadata": {},
   "outputs": [],
   "source": [
    "shear_table_wl = shear_table[shear_table['deg_sep'] < 0.5] # catalog for WL measurements\n",
    "print(\"Number of rows in ns after applying < 0.5 deg from center: \", len(shear_table_wl))"
   ]
  },
  {
   "cell_type": "code",
   "execution_count": null,
   "id": "bb935202-2e85-4382-b6a5-4f6036e6fe72",
   "metadata": {},
   "outputs": [],
   "source": [
    "rs_hi_ri = r_up_left + r_slope * (shear_table_wl['wmom_band_mag_r']-r_left)\n",
    "rs_low_ri = r_down_left + r_slope * (shear_table_wl['wmom_band_mag_r']-r_left)\n",
    "ri_filt = shear_table_wl['wmom_color_mag_r-i'] > rs_low_ri\n",
    "ri_filt &= shear_table_wl['wmom_color_mag_r-i'] < rs_hi_ri\n",
    "ri_filt &= shear_table_wl['wmom_band_mag_r'] < brightness_cut\n",
    "\n",
    "rs_hi_gi = g_up_left + g_slope * (shear_table_wl['wmom_band_mag_g']-g_left)\n",
    "rs_low_gi = g_down_left + g_slope * (shear_table_wl['wmom_band_mag_g']-g_left)\n",
    "gi_filt = shear_table_wl['wmom_color_mag_g-i'] > rs_low_gi\n",
    "gi_filt &= shear_table_wl['wmom_color_mag_g-i'] < rs_hi_gi\n",
    "gi_filt &= shear_table_wl['wmom_band_mag_g'] < brightness_cut\n",
    "\n",
    "# ns only, for plotting\n",
    "ri_filt_ns = np.logical_and(ri_filt, shear_table_wl['shear_type'] == 'ns')\n",
    "gi_filt_ns = np.logical_and(gi_filt, shear_table_wl['shear_type'] == 'ns')\n",
    "\n",
    "shear_table_wl_ns = shear_table_wl[shear_table_wl['shear_type'] == 'ns']"
   ]
  },
  {
   "cell_type": "code",
   "execution_count": null,
   "id": "36306f77-1cfd-44fe-ad40-b208bb7570d2",
   "metadata": {},
   "outputs": [],
   "source": [
    "fig, axes = plt.subplots(1,2, figsize=(12,5))\n",
    "\n",
    "axes[0].scatter(shear_table_wl_ns['wmom_band_mag_r'], shear_table_wl_ns['wmom_color_mag_r-i'], \n",
    "           marker='.', s=point_size) # all galaxies  \n",
    "axes[0].set_ylabel('r-i')\n",
    "axes[0].set_xlabel('r')\n",
    "\n",
    "axes[0].set_ylim([-1.5,2.5])\n",
    "axes[0].set_xlim([17,27])\n",
    "\n",
    "axes[1].scatter(shear_table_wl_ns['wmom_band_mag_g'], shear_table_wl_ns['wmom_color_mag_g-i'], \n",
    "           marker='.', s=point_size) \n",
    "axes[1].set_ylabel('g-i')\n",
    "axes[1].set_xlabel('g')\n",
    "\n",
    "axes[1].set_ylim([-0.5,3])\n",
    "axes[1].set_xlim([18,27])\n",
    "\n",
    "plt.suptitle(\"Color-Magnitude < 0.5 deg\")\n",
    "\n",
    "plt.savefig('image_outputs_fix/color-magnitude-0-5-no-line.png', bbox_inches='tight')\n",
    "plt.show()"
   ]
  },
  {
   "cell_type": "code",
   "execution_count": null,
   "id": "75e660a7-42a4-4558-81db-a97f029ab697",
   "metadata": {},
   "outputs": [],
   "source": [
    "fig, axes = plt.subplots(1,2, figsize=(12,5))\n",
    "\n",
    "axes[0].scatter(shear_table_wl_ns['wmom_band_mag_r'], shear_table_wl_ns['wmom_color_mag_r-i'], \n",
    "           marker='.', s=point_size) # all galaxies  \n",
    "axes[0].scatter(shear_table_wl['wmom_band_mag_r'][ri_filt_ns], \n",
    "           shear_table_wl['wmom_color_mag_r-i'][ri_filt_ns], \n",
    "           marker='.', s=point_size) #red sequence galaxies\n",
    "axes[0].set_ylabel('r-i')\n",
    "axes[0].set_xlabel('r')\n",
    "\n",
    "axes[0].plot([r_left,r_right],[r_down_left,r_down_right], color='r', linewidth=0.7)\n",
    "axes[0].plot([r_left,r_right],[r_up_left,r_up_right], color='r', linewidth=0.7)\n",
    "axes[0].set_ylim([-1.5,2.5])\n",
    "axes[0].set_xlim([17,27])\n",
    "\n",
    "axes[1].scatter(shear_table_wl_ns['wmom_band_mag_g'], shear_table_wl_ns['wmom_color_mag_g-i'], \n",
    "           marker='.', s=point_size) # all galaxies  \n",
    "axes[1].scatter(shear_table_wl['wmom_band_mag_g'][gi_filt_ns], \n",
    "           shear_table_wl['wmom_color_mag_g-i'][gi_filt_ns], \n",
    "           marker='.', s=point_size)\n",
    "axes[1].set_ylabel('g-i')\n",
    "axes[1].set_xlabel('g')\n",
    "\n",
    "axes[1].plot([g_left,g_right],[g_down_left,g_down_right], color='r', linewidth=0.7)\n",
    "axes[1].plot([g_left,g_right],[g_up_left,g_up_right], color='r', linewidth=0.7)\n",
    "axes[1].set_ylim([-0.5,3])\n",
    "axes[1].set_xlim([18,27])\n",
    "\n",
    "plt.suptitle(\"Color-Magnitude < 0.5 deg\\nCuts highlighted\")\n",
    "\n",
    "plt.savefig('image_outputs_fix/color-magnitude-0-5-orange.png', bbox_inches='tight')\n",
    "plt.show()"
   ]
  },
  {
   "cell_type": "code",
   "execution_count": null,
   "id": "e797f7b3-7d58-4cb8-bd93-bd7bf5465a13",
   "metadata": {},
   "outputs": [],
   "source": [
    "# rs_filt = np.logical_and(ri_filt, gi_filt)\n",
    "rs_filt = np.logical_or(ri_filt, gi_filt)\n",
    "rs_filt_ns = np.logical_and(rs_filt, shear_table_wl['shear_type'] == 'ns')\n",
    "\n",
    "RS_id_list = shear_table_wl['id'][rs_filt]\n",
    "RS_id_list_ns = shear_table_wl_ns['id'][rs_filt_ns] # for plotting"
   ]
  },
  {
   "cell_type": "code",
   "execution_count": null,
   "id": "a8505b71-3d93-405b-b572-1abbdc5766bb",
   "metadata": {},
   "outputs": [],
   "source": [
    "print(len(RS_id_list))\n",
    "print(len(RS_id_list_ns)) # should be ~20% of above line"
   ]
  },
  {
   "cell_type": "code",
   "execution_count": null,
   "id": "428d70c3-9114-492d-acad-a80390c66835",
   "metadata": {},
   "outputs": [],
   "source": [
    "# Filter out rows where the 'dataid' column matches any value in RS_id_list\n",
    "shear_table_wl = shear_table_wl[~shear_table_wl['id'].isin(RS_id_list)]\n",
    "shear_table_wl_ns = shear_table_wl_ns[~shear_table_wl_ns['id'].isin(RS_id_list_ns)]"
   ]
  },
  {
   "cell_type": "code",
   "execution_count": null,
   "id": "355f6597-66a9-4428-8f23-453067ac07bc",
   "metadata": {},
   "outputs": [],
   "source": [
    "print(len(shear_table_wl))\n",
    "print(len(shear_table_wl_ns))"
   ]
  },
  {
   "cell_type": "code",
   "execution_count": null,
   "id": "5760f5ec-d616-4cea-b242-6d3f929497b2",
   "metadata": {},
   "outputs": [],
   "source": [
    "fig, axes = plt.subplots(1,2, figsize=(12,5))\n",
    "\n",
    "axes[0].scatter(shear_table_wl_ns['wmom_band_mag_r'], shear_table_wl_ns['wmom_color_mag_r-i'], \n",
    "           marker='.', s=point_size) # all galaxies  \n",
    "axes[0].set_ylabel('r-i')\n",
    "axes[0].set_xlabel('r')\n",
    "\n",
    "axes[0].set_ylim([-1.5,2.5])\n",
    "axes[0].set_xlim([17,27])\n",
    "\n",
    "axes[1].scatter(shear_table_wl_ns['wmom_band_mag_g'], shear_table_wl_ns['wmom_color_mag_g-i'], \n",
    "           marker='.', s=point_size) \n",
    "axes[1].set_ylabel('g-i')\n",
    "axes[1].set_xlabel('g')\n",
    "\n",
    "axes[1].set_ylim([-0.5,3])\n",
    "axes[1].set_xlim([18,27])\n",
    "\n",
    "plt.suptitle(\"Color-Magnitude < 0.5 deg\\nCuts removed\")\n",
    "\n",
    "plt.savefig('image_outputs_fix/color-magnitude-0-5-removed.png', bbox_inches='tight')\n",
    "plt.show()"
   ]
  },
  {
   "cell_type": "markdown",
   "id": "d4d420bc-10d1-4b7e-bdea-e22d9c0a5aec",
   "metadata": {
    "jp-MarkdownHeadingCollapsed": true
   },
   "source": [
    "### Check lines of overdensity\n",
    "\n",
    "Lines of overdensity: imperfect overlap of objects between patches/tracts.\n",
    "\n",
    "(Outdated, but code might be useful later)"
   ]
  },
  {
   "cell_type": "code",
   "execution_count": null,
   "id": "39d1290a-0d1c-40f9-9ec6-c466a4082603",
   "metadata": {},
   "outputs": [],
   "source": [
    "# patch_list = []\n",
    "\n",
    "# for ref in butler.registry.queryDatasets('deepCoaddCell', collections=cell_collection, band='i'):\n",
    "#     if ref.dataId['tract'] == 10704 or ref.dataId['tract'] == 10705:\n",
    "#         continue\n",
    "\n",
    "#     if ref.dataId['tract'] == 10463 and ref.dataId['patch'] in overlap_patches_10463:\n",
    "#         continue\n",
    "    \n",
    "#     patch_list.append(butler.query_datasets('deepCoaddCell', \n",
    "#                                                  collections=cell_collection,\n",
    "#                                                  skymap = 'lsst_cells_v1',\n",
    "#                                                  band = 'i',\n",
    "#                                                  tract=ref.dataId['tract'],\n",
    "#                                                  patch=ref.dataId['patch'])[0])"
   ]
  },
  {
   "cell_type": "code",
   "execution_count": null,
   "id": "70667379-6c86-43e1-81eb-062063beecc5",
   "metadata": {},
   "outputs": [],
   "source": [
    "# segs = []\n",
    "\n",
    "# for ref in patch_list:\n",
    "    \n",
    "#     coadd = butler.get('deepCoaddCell',\n",
    "#                       collections=cell_collection,\n",
    "#                       skymap = 'lsst_cells_v1',\n",
    "#                       band = 'i',\n",
    "#                       tract=ref.dataId['tract'],\n",
    "#                       patch=ref.dataId['patch'])\n",
    "\n",
    "#     wcs = coadd.wcs\n",
    "#     bbox = coadd.inner_bbox\n",
    "\n",
    "#     coadd_corners = coadd.inner_bbox.getCorners()\n",
    "\n",
    "#     for index, corner in enumerate(coadd_corners):\n",
    "#         corner_coord_start = wcs.pixelToSky(corner.getX(), corner.getY())\n",
    "#         if index < 3:\n",
    "#             corner_coord_end = wcs.pixelToSky(coadd_corners[index+1].getX(), coadd_corners[index+1].getY())\n",
    "#         else:\n",
    "#             corner_coord_end = wcs.pixelToSky(coadd_corners[0].getX(), coadd_corners[0].getY())\n",
    "    \n",
    "#         start_ra = corner_coord_start[0].asDegrees()\n",
    "#         start_dec = corner_coord_start[1].asDegrees()\n",
    "    \n",
    "#         end_ra = corner_coord_end[0].asDegrees()\n",
    "#         end_dec = corner_coord_end[1].asDegrees()\n",
    "\n",
    "#         segs.append(((start_ra, start_dec), (end_ra, end_dec)))\n",
    "\n",
    "#     del coadd\n",
    "#     gc.collect()"
   ]
  },
  {
   "cell_type": "code",
   "execution_count": null,
   "id": "a3dd7208-52d5-446c-b2eb-fe760a9c5c96",
   "metadata": {},
   "outputs": [],
   "source": [
    "# plt.scatter(ra, dec, marker='.', s=0.2)\n",
    "# plt.scatter([ra_bcg], [dec_bcg], marker='+', s=100, color='orange')\n",
    "# for seg in segs:\n",
    "#     plt.plot([seg[0][0], seg[1][0]], [seg[0][1], seg[1][1]], 'r-', alpha=0.4)\n",
    "# plt.show()"
   ]
  },
  {
   "cell_type": "markdown",
   "id": "b303c66e-6ac3-42af-8a71-02f16e1ffa35",
   "metadata": {},
   "source": [
    "## Quality cuts\n",
    "\n",
    "Using cuts based on [Yamamoto 2024](https://arxiv.org/abs/2501.05665), though some changes have been made to account for LSSTComCam specific data."
   ]
  },
  {
   "cell_type": "code",
   "execution_count": null,
   "id": "3831bf04-80bf-4839-8261-100edd95822c",
   "metadata": {},
   "outputs": [],
   "source": [
    "def print_rows_removed(og_table, cuts_name):\n",
    "    total = len(og_table)\n",
    "    print(\"Cut name: \", cuts_name)\n",
    "    if cuts_name==\"final_cuts\":\n",
    "        print(\"wmom_T_ratio rows removed: \", total-len(og_table[og_table['wmom_T_ratio']>1.1]), \"  (\", \\\n",
    "            (1 - len(og_table[og_table['wmom_T_ratio']>1.1]) / total))\n",
    "        print(\"wmom_s2n rows removed: \", total-len(og_table[og_table['wmom_s2n']>10]), \"  (\", \\\n",
    "            (1 - len(og_table[og_table['wmom_s2n']>10]) / total))\n",
    "        print(\"wmom_T rows removed: \", total-len(og_table[og_table['wmom_T']<20]), \"  (\", \\\n",
    "            (1 - len(og_table[og_table['wmom_T']<20]) / total))\n",
    "        print(\"m_frac rows removed: \", total-len(og_table[og_table['mfrac']<0.1]), \"  (\", \\\n",
    "            (1 - len(og_table[og_table['mfrac']<0.1]) / total))\n",
    "        print(\"wmom_band_mag_g rows removed: \", total-len(og_table[og_table['wmom_band_mag_g']<25.7]), \"  (\", \\\n",
    "            (1 - len(og_table[og_table['wmom_band_mag_g']<25.7]) / total))\n",
    "        print(\"wmom_band_mag_r rows removed: \", total-len(og_table[og_table['wmom_band_mag_r']<25.4]), \"  (\", \\\n",
    "            (1 - len(og_table[og_table['wmom_band_mag_r']<25.4]) / total))\n",
    "        print(\"wmom_band_mag_i rows removed: \", total-len(og_table[og_table['wmom_band_mag_i']<25.1]), \"  (\", \\\n",
    "            (1 - len(og_table[og_table['wmom_band_mag_i']<25.1]) / total))\n",
    "        print(\"wmom_color_mag_g-r rows removed: \", total-len(og_table[(og_table['wmom_color_mag_g-r']).abs()<5]), \"  (\", \\\n",
    "            (1 - len(og_table[(og_table['wmom_color_mag_g-r']).abs()<5]) / total))\n",
    "        print(\"wmom_color_mag_r-i rows removed: \", total-len(og_table[(og_table['wmom_color_mag_r-i']).abs()<5]), \"  (\", \\\n",
    "            (1 - len(og_table[(og_table['wmom_color_mag_r-i']).abs()<5]) / total))\n",
    "        print(\"wmom_band_mag_i<20 rows removed: \", total-len(og_table[og_table['wmom_band_mag_i']>20]), \"  (\", \\\n",
    "            (1 - len(og_table[og_table['wmom_band_mag_i']>20]) / total))\n",
    "        print(\"Junk cut 1: \", total-len(og_table[og_table['wmom_T'] < (0.41 - 1.4*og_table['wmom_T_err'])]), \"  (\", \\\n",
    "            (1 - len(og_table[og_table['wmom_T'] < (0.41 - 1.4*og_table['wmom_T_err'])]) / total))\n",
    "        print(\"Junk cut 2: \", total-len(og_table[(og_table['wmom_T'] * og_table['wmom_T_err']) < 0.015]), \"  (\", \\\n",
    "            (1 - len(og_table[(og_table['wmom_T'] * og_table['wmom_T_err']) < 0.015]) / total))\n",
    "    else:\n",
    "        print(\"Not a valid cut or missing column name\")"
   ]
  },
  {
   "cell_type": "code",
   "execution_count": null,
   "id": "926165d1-bd4c-4b5c-bf34-14733c7dc62d",
   "metadata": {},
   "outputs": [],
   "source": [
    "# cuts determined mainly from Yamamoto but also additional analyses here\n",
    "final_cuts = shear_table_wl['wmom_T_ratio']>1.1\n",
    "final_cuts &= shear_table_wl['wmom_s2n']>10\n",
    "final_cuts &= shear_table_wl['wmom_T']<20\n",
    "final_cuts &= shear_table_wl['mfrac']<0.1\n",
    "final_cuts &= shear_table_wl['wmom_band_mag_g']<25.7\n",
    "final_cuts &= shear_table_wl['wmom_band_mag_r']<25.4\n",
    "final_cuts &= shear_table_wl['wmom_band_mag_i']<25.1\n",
    "final_cuts &= (shear_table_wl['wmom_color_mag_g-r']).abs()<5\n",
    "final_cuts &= (shear_table_wl['wmom_color_mag_r-i']).abs()<5\n",
    "final_cuts &= shear_table_wl['wmom_band_mag_i']>20\n",
    "# junk cuts\n",
    "final_cuts &= shear_table_wl['wmom_T'] < (0.41 - 1.4*shear_table_wl['wmom_T_err'])\n",
    "# final_cuts &= (shear_table_wl['wmom_T'] * shear_table_wl['wmom_T_err']) < 0.015\n",
    "\n",
    "print(len(shear_table_wl))\n",
    "cut_name, cut_name_string = final_cuts, \"final_cuts\"\n",
    "print_rows_removed(shear_table_wl, cut_name_string)\n",
    "\n",
    "shear_table_wl = shear_table_wl[cut_name]\n",
    "shear_table_wl_ns = shear_table_wl[shear_table_wl['shear_type']=='ns']\n",
    "\n",
    "print()\n",
    "print(\"Number of rows after applying quality cuts: \", len(shear_table_wl))\n",
    "print(\"Number of rows in ns after applying quality cuts: \", len(shear_table_wl_ns))"
   ]
  },
  {
   "cell_type": "markdown",
   "id": "18e55a87-c9b3-4885-b627-f740fd5ac411",
   "metadata": {},
   "source": [
    "# Looking at shear outputs"
   ]
  },
  {
   "cell_type": "markdown",
   "id": "643bd036-21d3-4efc-bc6a-d98b43a5b14f",
   "metadata": {},
   "source": [
    "## Check shear types for each object\n",
    "\n",
    "Each object is detected and measured separately for each sheared/unsheared image. The catalogs will not necessarily be the same but should be close in number of objects."
   ]
  },
  {
   "cell_type": "code",
   "execution_count": null,
   "id": "b525c8b7-1f25-4f58-85fb-fdfadb803903",
   "metadata": {},
   "outputs": [],
   "source": [
    "# split catalog by shear type\n",
    "shear_table_wl_ns = shear_table_wl[shear_table_wl['shear_type']=='ns']\n",
    "shear_table_wl_1p = shear_table_wl[shear_table_wl['shear_type']=='1p']\n",
    "shear_table_wl_1m = shear_table_wl[shear_table_wl['shear_type']=='1m']\n",
    "shear_table_wl_2p = shear_table_wl[shear_table_wl['shear_type']=='2p']\n",
    "shear_table_wl_2m = shear_table_wl[shear_table_wl['shear_type']=='2m']"
   ]
  },
  {
   "cell_type": "code",
   "execution_count": null,
   "id": "8bc6684d-f79e-402f-998d-f1b62a4301ad",
   "metadata": {},
   "outputs": [],
   "source": [
    "print(\"Number of shear type 'ns': \", len(shear_table_wl_ns))\n",
    "print(\"Number of shear type '1p': \", len(shear_table_wl_1p))\n",
    "print(\"Number of shear type '1m': \", len(shear_table_wl_1m))\n",
    "print(\"Number of shear type '2p': \", len(shear_table_wl_2p))\n",
    "print(\"Number of shear type '2m': \", len(shear_table_wl_2m))"
   ]
  },
  {
   "cell_type": "markdown",
   "id": "4266e3a4-8dc0-4073-888d-db12d72ccea3",
   "metadata": {},
   "source": [
    "## Determining tangential & cross shear"
   ]
  },
  {
   "cell_type": "code",
   "execution_count": null,
   "id": "2d558315-1921-41f9-9413-f1ab6b5092d0",
   "metadata": {},
   "outputs": [],
   "source": [
    "# Radial binning, either in Mpc or degrees\n",
    "bins_deg = clmm.make_bins(0.025,0.5,nbins=6, method='evenlog10width')\n",
    "bins_mpc = cosmo.eval_da(0.22) * bins_deg * np.pi/180\n",
    "\n",
    "# define distance bins\n",
    "dig_rad_bins_ns = np.digitize(shear_table_wl_ns['deg_sep'], bins_deg)\n",
    "dig_mpc_bins_ns = np.digitize(shear_table_wl_ns['mpc_sep'], bins_mpc)\n",
    "\n",
    "shear_diff = 0.02"
   ]
  },
  {
   "cell_type": "markdown",
   "id": "8666bf2e-6621-4824-8f15-d8cc58879814",
   "metadata": {},
   "source": [
    "Definitions of tangential and cross shear used:\n",
    "$$ \\gamma_t = -\\gamma_1\\cos(2\\phi)-\\gamma_2\\sin(2\\phi) $$\n",
    "$$ \\gamma_\\times = \\gamma_1\\sin(2\\phi)-\\gamma_2\\cos(2\\phi) $$\n",
    "\n",
    "$\\phi$ : Polar Angle of galaxy relative to BCG "
   ]
  },
  {
   "cell_type": "markdown",
   "id": "61f4fef3-05e8-43ca-96e8-bbc4968f1baa",
   "metadata": {},
   "source": [
    "### Individual Phi\n",
    "\n",
    "This section will attempt to measure $\\gamma_t$ and $\\gamma_\\times$ by:\n",
    "- Calculate the response R from all galaxies, no binning\n",
    "- Apply R to mean $\\gamma_t,\\gamma_\\times$ of each bin, getting the calibrated shear"
   ]
  },
  {
   "cell_type": "code",
   "execution_count": null,
   "id": "c5194c9f-40ef-4683-adc9-255a0edd81ec",
   "metadata": {},
   "outputs": [],
   "source": [
    "p1_mean = shear_table_wl_1p['wmom_g_1'].mean()\n",
    "m1_mean = shear_table_wl_1m['wmom_g_1'].mean()\n",
    "p2_mean = shear_table_wl_2p['wmom_g_2'].mean()\n",
    "m2_mean = shear_table_wl_2m['wmom_g_2'].mean()\n",
    "\n",
    "r_matrix = [[0, 0],[0, 0]]\n",
    "\n",
    "r_matrix[0][0] = (p1_mean - m1_mean) / shear_diff\n",
    "# r_matrix[0][1] = (p2_mean - m2_mean) / shear_diff\n",
    "# r_matrix[1][0] = (p1_mean - m1_mean) / shear_diff\n",
    "r_matrix[1][1] = (p2_mean - m2_mean) / shear_diff\n",
    "\n",
    "r_matrix_inv = inv(r_matrix)\n",
    "\n",
    "# calculate R error\n",
    "p1_err = np.std(shear_table_wl_1p['wmom_g_1']) / np.sqrt(len(shear_table_wl_1p['wmom_g_1']))\n",
    "m1_err = np.std(shear_table_wl_1m['wmom_g_1']) / np.sqrt(len(shear_table_wl_1m['wmom_g_1']))\n",
    "p2_err = np.std(shear_table_wl_2p['wmom_g_2']) / np.sqrt(len(shear_table_wl_2p['wmom_g_2']))\n",
    "m2_err = np.std(shear_table_wl_2m['wmom_g_2']) / np.sqrt(len(shear_table_wl_2m['wmom_g_2']))\n",
    "\n",
    "r11_err = np.sqrt(p1_err**2 + m1_err**2)\n",
    "r22_err = np.sqrt(p2_err**2 + m2_err**2)\n",
    "\n",
    "print(\"R11, R22: \", r_matrix[0][0], r_matrix[1][1])\n",
    "print(\"R11_err, R22_err: \", r11_err, r22_err)\n",
    "print(\"Difference of R11 and R22: \", np.abs(r_matrix[0][0]-r_matrix[1][1]))"
   ]
  },
  {
   "cell_type": "code",
   "execution_count": null,
   "id": "1db9ff57-99cd-4754-95e7-f3b6b72636b8",
   "metadata": {},
   "outputs": [],
   "source": [
    "# bin tangential and cross shears by radial bins\n",
    "tan_cross_shears = np.zeros((len(bins_mpc)-1, 2)) # binned tangential and cross shear\n",
    "mean_mpc = []\n",
    "tan_errs = []\n",
    "cross_errs = []\n",
    "\n",
    "for i in range(0, len(bins_mpc)-1):\n",
    "    bin_filt_ns = dig_mpc_bins_ns == i+1\n",
    "\n",
    "    # print number of galaxies in each bin\n",
    "    print(\"Rows in bin \", i, \" :\", len(shear_table_wl_ns['shear_t'][bin_filt_ns]))\n",
    "\n",
    "    # calulcate mean t and x shears\n",
    "    mean_g_t = shear_table_wl_ns['shear_t'][bin_filt_ns].mean() # mean g1\n",
    "    mean_g_x = shear_table_wl_ns['shear_x'][bin_filt_ns].mean() # mean g2\n",
    "\n",
    "    # calculate errors, 95% confidence interval\n",
    "    g_t_err = stats.bootstrap([shear_table_wl_ns['shear_t'][bin_filt_ns]], np.mean).confidence_interval\n",
    "    g_x_err = stats.bootstrap([shear_table_wl_ns['shear_x'][bin_filt_ns]], np.mean).confidence_interval\n",
    "\n",
    "    # apply calibration \n",
    "    shear_cal = r_matrix_inv.dot([mean_g_t, mean_g_x])\n",
    "    shear_cal_err_upper = r_matrix_inv.dot([g_t_err.high, g_x_err.high])\n",
    "    shear_cal_err_lower = r_matrix_inv.dot([g_t_err.low, g_x_err.low])\n",
    "\n",
    "    tan_err = [shear_cal_err_lower[0], shear_cal_err_upper[0]]\n",
    "    cross_err = [shear_cal_err_lower[1], shear_cal_err_upper[1]]\n",
    "\n",
    "    tan_cross_shears[i] = shear_cal\n",
    "    tan_errs.append(tan_err)\n",
    "    cross_errs.append(cross_err)\n",
    "\n",
    "    # get the mean distance from BCG\n",
    "    mean_deg_sep = shear_table_wl_ns['deg_sep'][bin_filt_ns].mean()\n",
    "    mean_mpc_sep = cosmo.eval_da(0.22) * mean_deg_sep * np.pi/180\n",
    "    mean_mpc.append(mean_mpc_sep)\n",
    "\n",
    "tan_errs = np.array(tan_errs)\n",
    "cross_errs = np.array(cross_errs)"
   ]
  },
  {
   "cell_type": "markdown",
   "id": "fa3d6f4b-bf39-4731-8d38-696834d66193",
   "metadata": {},
   "source": [
    "#### Getting NFW Model with CLMM Package"
   ]
  },
  {
   "cell_type": "code",
   "execution_count": null,
   "id": "0ba42289-e1e6-4714-9ba1-4348bbb369ed",
   "metadata": {},
   "outputs": [],
   "source": [
    "galcat = GCData()\n",
    "galcat['ra'] = shear_table_wl_ns['ra']\n",
    "galcat['dec'] = shear_table_wl_ns['dec']\n",
    "galcat['e1'] = shear_table_wl_ns['wmom_g_1'] * 2\n",
    "galcat['e2'] = shear_table_wl_ns['wmom_g_2'] * 2\n",
    "\n",
    "galcat['z'] = np.zeros(len(shear_table_wl_ns)) # CLMM needs a redshift column for the source, even if not used\n",
    "\n",
    "cluster_id = \"Abell 360\"\n",
    "gc_object1 = clmm.GalaxyCluster(cluster_id, ra_bcg, dec_bcg, 0.22, galcat, coordinate_system='euclidean')\n",
    "\n",
    "gc_object1.compute_galaxy_weights(\n",
    "        shape_component1=\"e1\",\n",
    "        shape_component2=\"e2\",\n",
    "        use_shape_error=False, # individual shape errors are not yet available for Metadetect\n",
    "        use_shape_noise=True,\n",
    "        weight_name=\"w_ls\",\n",
    "        cosmo=cosmo,\n",
    "        add=True,\n",
    "    )\n",
    "\n",
    "moo = clmm.Modeling(massdef=\"mean\", delta_mdef=500, halo_profile_model=\"nfw\")\n",
    "\n",
    "moo.set_cosmo(cosmo)\n",
    "moo.set_concentration(4)\n",
    "# moo.set_mass(1.0e15)\n",
    "moo.set_mass(4.0e14)\n",
    "\n",
    "z_cl = gc_object1.z\n",
    "\n",
    "# source properties\n",
    "# assume sources redshift following a the DESC SRD distribution. This will need updating.\n",
    "\n",
    "z_distrib_func = utils.redshift_distributions.desc_srd\n",
    "\n",
    "# Compute first beta (e.g. eq(6) of WtGIII paper)\n",
    "beta_kwargs = {\n",
    "    \"z_cl\": z_cl,\n",
    "    \"z_inf\": 10.0,\n",
    "    \"cosmo\": cosmo,\n",
    "    \"z_distrib_func\": z_distrib_func,\n",
    "}\n",
    "beta_s_mean = utils.compute_beta_s_mean_from_distribution(**beta_kwargs)\n",
    "beta_s_square_mean = utils.compute_beta_s_square_mean_from_distribution(**beta_kwargs)\n",
    "\n",
    "rproj = np.logspace(np.log10(0.3),np.log10(7.), 100)\n",
    "\n",
    "gt_z = moo.eval_reduced_tangential_shear(\n",
    "    rproj, z_cl, [beta_s_mean, beta_s_square_mean], z_src_info=\"beta\", approx=\"order2\"\n",
    ")"
   ]
  },
  {
   "cell_type": "code",
   "execution_count": null,
   "id": "d8f66a57-bd07-4298-8d2e-c5b87523b948",
   "metadata": {},
   "outputs": [],
   "source": [
    "fig, axes = plt.subplots(1,1, figsize=(8,6))\n",
    "\n",
    "point_size = 40\n",
    "point_alpha = 1\n",
    "\n",
    "# g1 calibrated\n",
    "axes.scatter(mean_mpc, tan_cross_shears[:,0],\n",
    "             marker='.', s=point_size, label='tangential shear')\n",
    "axes.plot(mean_mpc, tan_cross_shears[:,0], '-o')\n",
    "axes.vlines(mean_mpc, tan_errs[:,0], tan_errs[:,1], colors='blue')\n",
    "\n",
    "cross_axis = np.add(mean_mpc, 0.06) # add offset to visually differentiate\n",
    "\n",
    "axes.scatter(cross_axis, tan_cross_shears[:,1],\n",
    "             marker='.', s=point_size, label='cross shear')\n",
    "axes.plot(cross_axis, tan_cross_shears[:,1], '-o')\n",
    "axes.vlines(cross_axis, cross_errs[:,0], cross_errs[:,1], colors='orange')\n",
    "\n",
    "plt.axhline(0.0, color='k', ls=':')\n",
    "\n",
    "plt.plot(rproj, gt_z, label='NFW (model, not fit), M500c=4e14 Msun, c=4, n(z)=SRD', ls=':')\n",
    "\n",
    "plt.xscale('log')\n",
    "plt.axhline(0.0, color='k', ls=':')\n",
    "plt.ylim([-0.06,0.1])\n",
    "plt.xlim([0.3,7])\n",
    "axes.set_xlabel('R [Mpc]')\n",
    "axes.set_ylabel(\"reduced shear\")\n",
    "axes.legend(loc=1)\n",
    "\n",
    "plt.suptitle(\"\")\n",
    "plt.savefig('image_outputs_fix/shear-final.png', bbox_inches='tight')\n",
    "plt.show()"
   ]
  },
  {
   "cell_type": "markdown",
   "id": "8a72002a-ab1c-4dc3-89c2-341dcc27fab9",
   "metadata": {},
   "source": [
    "# Validation"
   ]
  },
  {
   "cell_type": "markdown",
   "id": "54124b55-eb03-4549-a516-acd20cd0767c",
   "metadata": {
    "jp-MarkdownHeadingCollapsed": true
   },
   "source": [
    "## Check g1/g2 and PSF ellipticities"
   ]
  },
  {
   "cell_type": "markdown",
   "id": "4fe4762b-d4cc-4a8d-b990-1d57c0801b9a",
   "metadata": {},
   "source": [
    "Check that the PSF and object ellipticities average to ~0"
   ]
  },
  {
   "cell_type": "code",
   "execution_count": null,
   "id": "33f7e861-2d3d-4947-83db-f694a1140178",
   "metadata": {},
   "outputs": [],
   "source": [
    "# print mean values\n",
    "print(\"Mean of psfrec_g_1: \", shear_table_wl_ns['psfrec_g_1'].median())\n",
    "print(\"Mean of psfrec_g_2: \", shear_table_wl_ns['psfrec_g_2'].median())\n",
    "print(\"Mean of wmom_g_1: \", shear_table_wl_ns['wmom_g_1'].median())\n",
    "print(\"Mean of wmom_g_2: \", shear_table_wl_ns['wmom_g_2'].median())"
   ]
  },
  {
   "cell_type": "code",
   "execution_count": null,
   "id": "49f4a1f0-495e-4638-b968-5e722eedd31b",
   "metadata": {},
   "outputs": [],
   "source": [
    "n_bins = 50\n",
    "\n",
    "fig, axs = plt.subplots(1, 4, sharey=True, tight_layout=True)\n",
    "\n",
    "axs[0].hist(shear_table_wl_ns['psfrec_g_1'], bins=n_bins)\n",
    "axs[0].set_title('psfrec_g_1')\n",
    "axs[1].hist(shear_table_wl_ns['psfrec_g_2'], bins=n_bins)\n",
    "axs[1].set_title('psfrec_g_2')\n",
    "axs[2].hist(shear_table_wl_ns['wmom_g_1'], bins=n_bins)\n",
    "axs[2].set_title('wmom_g_1')\n",
    "axs[3].hist(shear_table_wl_ns['wmom_g_2'], bins=n_bins)\n",
    "axs[3].set_title('wmom_g_2')\n",
    "\n",
    "fig.suptitle(\"Distribution of ellipticities for PSF and WMOM\")\n",
    "\n",
    "plt.show()"
   ]
  },
  {
   "cell_type": "code",
   "execution_count": null,
   "id": "424dd655-16d7-408c-9929-98d09d47500f",
   "metadata": {},
   "outputs": [],
   "source": [
    "n_bins = 50\n",
    "\n",
    "fig, axs = plt.subplots(1, 4, sharey=True, tight_layout=True)\n",
    "\n",
    "axs[0].hist(shear_table_wl_ns['psfrec_g_1'], bins=n_bins)\n",
    "axs[0].set_yscale('log')\n",
    "axs[0].set_title('psfrec_g_1')\n",
    "axs[1].hist(shear_table_wl_ns['psfrec_g_2'], bins=n_bins)\n",
    "axs[1].set_title('psfrec_g_2')\n",
    "axs[1].set_yscale('log')\n",
    "axs[2].hist(shear_table_wl_ns['wmom_g_1'], bins=n_bins)\n",
    "axs[2].set_title('wmom_g_1')\n",
    "axs[2].set_yscale('log')\n",
    "axs[3].hist(shear_table_wl_ns['wmom_g_2'], bins=n_bins)\n",
    "axs[3].set_title('wmom_g_2')\n",
    "axs[3].set_yscale('log')\n",
    "\n",
    "fig.suptitle(\"Distribution of ellipticities for PSF and WMOM\")\n",
    "\n",
    "plt.show()"
   ]
  },
  {
   "cell_type": "markdown",
   "id": "40b3b102-8eb5-416d-924f-0d8aeb5c27c2",
   "metadata": {
    "jp-MarkdownHeadingCollapsed": true
   },
   "source": [
    "## Metadetect Limiting Magnitude vs. `cmodel` Limiting Magnitude"
   ]
  },
  {
   "cell_type": "code",
   "execution_count": null,
   "id": "025e40b4-8b32-4851-9ca2-471cb3d7311a",
   "metadata": {},
   "outputs": [],
   "source": [
    "# get the cmodel magnitudes\n",
    "\n",
    "c_repo = '/repo/dp1'\n",
    "c_collection = 'LSSTComCam/runs/DRP/DP1/v29_0_0/DM-50260'\n",
    "c_butler = Butler(c_repo, collections=c_collection)\n",
    "\n",
    "obj_table_list = []\n",
    "\n",
    "for tract, patch in tract_patch_list:\n",
    "    \n",
    "    dataId = {'tract': tract, 'patch' : patch , 'skymap':'lsst_cells_v1'}\n",
    "    obj_cat = c_butler.get('object_patch', dataId=dataId, collections=c_collection)\n",
    "    obj_table = obj_cat.to_pandas()\n",
    "\n",
    "    # apply cuts from CLMM/HSM notebook, though adding g-band\n",
    "    filt = obj_cat['detect_isPrimary']==True\n",
    "    filt &= obj_cat['g_cModel_flag']== False\n",
    "    filt &= obj_cat['r_cModel_flag']== False\n",
    "    filt &= obj_cat['i_cModel_flag']== False\n",
    "    filt &= obj_cat['g_cModelFlux']>0\n",
    "    filt &= obj_cat['r_cModelFlux']>0\n",
    "    filt &= obj_cat['i_cModelFlux']>0\n",
    "    filt &= obj_cat['refExtendedness'] > 0.5\n",
    "\n",
    "    # grab only cmodel fluxes to keep memory usage down\n",
    "    obj_table = obj_table[['g_cModelFlux', 'r_cModelFlux', 'i_cModelFlux']]\n",
    "\n",
    "    obj_table_list.append(obj_table[filt])\n",
    "\n",
    "cmodel_table = pd.concat(obj_table_list)\n",
    "\n",
    "# remove unused tables to clear up memory\n",
    "del obj_table_list\n",
    "gc.collect()"
   ]
  },
  {
   "cell_type": "code",
   "execution_count": null,
   "id": "44732621-98cd-45e8-aca6-142347ef83be",
   "metadata": {},
   "outputs": [],
   "source": [
    "# convert fluxes to magnitudes\n",
    "cmodel_mag_g = -2.50 * np.log10(cmodel_table['i_cModelFlux']) + 31.4\n",
    "cmodel_mag_r = -2.50 * np.log10(cmodel_table['i_cModelFlux']) + 31.4\n",
    "cmodel_mag_i = -2.50 * np.log10(cmodel_table['r_cModelFlux']) + 31.4"
   ]
  },
  {
   "cell_type": "code",
   "execution_count": null,
   "id": "b81eea63-fab8-436c-a384-d0f16ef15222",
   "metadata": {},
   "outputs": [],
   "source": [
    "# isolate no shear catalog\n",
    "shear_table_md_cuts_ns = shear_table_md_cuts[shear_table_md_cuts['shear_type']=='ns']\n",
    "\n",
    "# distribution of magnitudes prior to cuts, Metadetection\n",
    "fig, ax = plt.subplots(nrows=2, ncols=3, figsize=(15,10))\n",
    "ax[0][0].hist(shear_table_md_cuts_ns['wmom_band_mag_g'], bins=75)\n",
    "ax[0][0].set_title(\"g-band\")\n",
    "ax[0][0].vlines(x=25.7, ymin=0, ymax=35000, color='red')\n",
    "ax[0][0].set_ylabel(\"Metadetection\")\n",
    "ax[0][1].hist(shear_table_md_cuts_ns['wmom_band_mag_r'], bins=75)\n",
    "ax[0][1].set_title(\"r-band\")\n",
    "ax[0][1].vlines(x=25.4, ymin=0, ymax=35000, color='red')\n",
    "ax[0][2].hist(shear_table_md_cuts_ns['wmom_band_mag_i'], bins=75)\n",
    "ax[0][2].set_title(\"i-band\")\n",
    "ax[0][2].vlines(x=25.1, ymin=0, ymax=35000, color='red')\n",
    "\n",
    "# distribution of magnitudes with cmodel\n",
    "ax[1][0].hist(cmodel_mag_g, bins=75)\n",
    "ax[1][0].set_title(\"g-band\")\n",
    "ax[1][0].vlines(x=25.7, ymin=0, ymax=30000, color='red')\n",
    "ax[1][0].set_ylabel(\"cmodel\")\n",
    "ax[1][1].hist(cmodel_mag_r, bins=75)\n",
    "ax[1][1].set_title(\"r-band\")\n",
    "ax[1][1].vlines(x=25.4, ymin=0, ymax=30000, color='red')\n",
    "ax[1][2].hist(cmodel_mag_i, bins=75)\n",
    "ax[1][2].set_title(\"i-band\")\n",
    "ax[1][2].vlines(x=25.1, ymin=0, ymax=30000, color='red')\n",
    "\n",
    "for ax in ax.reshape(-1):\n",
    "    ax.set_yscale('log')\n",
    "    ax.set_xlabel(\"AB Mag\")\n",
    "    ax.set_xlim(right=32)\n",
    "    #ax.set_ylim(top=14000)\n",
    "\n",
    "plt.savefig('image_outputs_fix/object-magnitudes-compare.png', bbox_inches='tight')\n",
    "plt.suptitle(\"Object Magnitudes\\nMetadetection vs. cmodel\")\n",
    "plt.show()"
   ]
  },
  {
   "cell_type": "markdown",
   "id": "6623f65b-1525-4e4d-903b-a8239dbb4bb7",
   "metadata": {
    "jp-MarkdownHeadingCollapsed": true
   },
   "source": [
    "## Plot `wmom_T_ratio` vs S/N"
   ]
  },
  {
   "cell_type": "code",
   "execution_count": null,
   "id": "eedb5083-c8b7-47b0-8950-4598d7cb8abf",
   "metadata": {},
   "outputs": [],
   "source": [
    "fig, axes = plt.subplots(1,1, figsize=(7,6))\n",
    "\n",
    "shear_table_rs_cuts_ns = shear_table_rs_cuts[shear_table_rs_cuts['shear_type']=='ns']\n",
    "\n",
    "axes.scatter(np.log10(shear_table_rs_cuts_ns['wmom_s2n']), shear_table_rs_cuts_ns['wmom_T_ratio'], \n",
    "           marker='.', s=3, alpha=point_alpha, label=\"All\")\n",
    "axes.scatter(np.log10(shear_table_wl_ns['wmom_s2n']), shear_table_wl_ns['wmom_T_ratio'], \n",
    "           marker='.', s=3, alpha=point_alpha, label='Remaining')\n",
    "axes.set_xlabel('$log_{10}$(S/N)')\n",
    "axes.set_ylabel('wmom_T_ratio')\n",
    "axes.hlines(1.1, 0.5, 5, color='red', label='1.1 limit')\n",
    "plt.legend()\n",
    "\n",
    "plt.savefig('image_outputs_fix/obj_T_vs_s2n.png', bbox_inches='tight')\n",
    "plt.show()"
   ]
  },
  {
   "cell_type": "markdown",
   "id": "75431384-7be7-4531-ba8b-956ab638f02f",
   "metadata": {
    "jp-MarkdownHeadingCollapsed": true
   },
   "source": [
    "## Plot object density"
   ]
  },
  {
   "cell_type": "code",
   "execution_count": null,
   "id": "f4f12cba-04ac-4747-8612-453419e6c442",
   "metadata": {},
   "outputs": [],
   "source": [
    "obj_density = shear_table_rs_cuts.copy()\n",
    "obj_density = obj_density[obj_density['shear_type']=='ns']"
   ]
  },
  {
   "cell_type": "code",
   "execution_count": null,
   "id": "96bbe213-4f4a-4b06-a9ca-af0238f5ebe1",
   "metadata": {},
   "outputs": [],
   "source": [
    "fig, axes = plt.subplots(1,3, figsize=(19,6), sharex=True, sharey=True)\n",
    "plt.subplots_adjust(wspace=0, hspace=0)\n",
    "\n",
    "axes[0].scatter(shear_table_dup['ra'][shear_table_dup['shear_type']=='ns'], shear_table_dup['dec'][shear_table_dup['shear_type']=='ns'], marker='.', s=0.1, alpha=0.6) \n",
    "axes[0].set_title(\"No cuts\")\n",
    "axes[0].set_xlabel(\"ra\")\n",
    "axes[0].set_ylabel(\"dec\")\n",
    "axes[0].invert_xaxis()\n",
    "\n",
    "axes[1].scatter(obj_density['ra'], obj_density['dec'], marker='.', s=0.1, alpha=0.6) \n",
    "axes[1].set_title(\"Duplicate and Red Sequence Cuts\")\n",
    "axes[1].set_xlabel(\"ra\")\n",
    "axes[1].invert_xaxis()\n",
    "\n",
    "axes[2].scatter(shear_table_wl_ns['ra'], shear_table_wl_ns['dec'], marker='.', s=0.1, alpha=0.6) \n",
    "axes[2].set_title(\"All cuts\")\n",
    "axes[2].set_xlabel(\"ra\")\n",
    "axes[2].set_xlim(ra_bcg-0.7, ra_bcg+0.7)\n",
    "axes[2].set_ylim(dec_bcg-0.7, dec_bcg+0.7)\n",
    "axes[2].invert_xaxis()\n",
    "\n",
    "for ax in axes.reshape(-1):\n",
    "    ax.scatter([ra_bcg], [dec_bcg], marker='+', s=100, color='orange')\n",
    "\n",
    "plt.suptitle(\"Object Distribution\", size=16, y=0.98)\n",
    "plt.savefig('image_outputs_fix/object-distribution-before-after.png', bbox_inches='tight')\n",
    "plt.show()"
   ]
  },
  {
   "cell_type": "markdown",
   "id": "c5880a06-1f06-48fd-a769-b4e38bb07f30",
   "metadata": {
    "jp-MarkdownHeadingCollapsed": true
   },
   "source": [
    "## Junk Detections"
   ]
  },
  {
   "cell_type": "code",
   "execution_count": null,
   "id": "4e6c053a-ad8d-4f7d-8c46-8571827f445d",
   "metadata": {},
   "outputs": [],
   "source": [
    "x_1 = np.linspace(0.0, 0.06, num=10)\n",
    "line_y = 0.41 - 1.4*x_1\n",
    "\n",
    "fig, axes = plt.subplots(1,1, figsize=(7,7), sharex=True, sharey=True)\n",
    "plt.subplots_adjust(wspace=0, hspace=0)\n",
    "\n",
    "axes.scatter(shear_table_rs_cuts['wmom_T_err'][shear_table_rs_cuts['shear_type']=='ns'], \n",
    "                shear_table_rs_cuts['wmom_T'][shear_table_rs_cuts['shear_type']=='ns'], marker='.', s=2, label='All')\n",
    "axes.scatter(shear_table_wl['wmom_T_err'][shear_table_wl['shear_type']=='ns'], \n",
    "                shear_table_wl['wmom_T'][shear_table_wl['shear_type']=='ns'], marker='.', s=2, label='Remaining')\n",
    "axes.plot(x_1, line_y, color='red', linewidth=0.7, label='T versus T_err cut')\n",
    "axes.set_xlabel(\"wmom_T_err\")\n",
    "axes.set_ylabel(\"wmom_T\")\n",
    "plt.legend()\n",
    "\n",
    "plt.savefig('image_outputs_fix/junk1.png', bbox_inches='tight')\n",
    "plt.show()"
   ]
  },
  {
   "cell_type": "code",
   "execution_count": null,
   "id": "b8314de1-d985-4f4e-b033-493423337c62",
   "metadata": {
    "jupyter": {
     "source_hidden": true
    }
   },
   "outputs": [],
   "source": [
    "print((shear_table_rs_cuts['wmom_T']*shear_table_rs_cuts['wmom_T_err']).max())\n",
    "print((shear_table_wl['wmom_T']*shear_table_wl['wmom_T_err']).max())"
   ]
  },
  {
   "cell_type": "code",
   "execution_count": null,
   "id": "025a8691-3a65-4af5-a62c-8836265b291b",
   "metadata": {
    "jupyter": {
     "source_hidden": true
    }
   },
   "outputs": [],
   "source": [
    "fig, axes = plt.subplots(1,2, figsize=(14,6), sharex=True, sharey=True)\n",
    "\n",
    "axes[0].hist(shear_table_rs_cuts['wmom_T']*shear_table_rs_cuts['wmom_T_err'], bins=75)\n",
    "axes[0].vlines(0.015, 0, 22000, color='red')\n",
    "axes[0].set_title(\"T x T_err (after RS cuts)\")\n",
    "axes[0].set_xlabel(\"wmom_T x wmom_T_err\")\n",
    "axes[0].set_yscale(\"log\")\n",
    "\n",
    "axes[1].hist(shear_table_wl['wmom_T']*shear_table_wl['wmom_T_err'], bins=30)\n",
    "axes[1].vlines(0.015, 0, 22000, color='red')\n",
    "axes[1].set_title(\"T x T_err (after all cuts)\")\n",
    "axes[1].set_xlabel(\"wmom_T x wmom_T_err\")\n",
    "\n",
    "plt.suptitle(\"T times T_err\", size=16, y=0.98)\n",
    "plt.savefig('image_outputs_fix/junk2.png', bbox_inches='tight')\n",
    "plt.show()"
   ]
  },
  {
   "cell_type": "markdown",
   "id": "4ab8fc0d-11ee-495c-a9d8-302636c04920",
   "metadata": {},
   "source": [
    "### Find Junk Objects"
   ]
  },
  {
   "cell_type": "code",
   "execution_count": null,
   "id": "561bc6be-0d84-4a80-98db-85de0c50896c",
   "metadata": {},
   "outputs": [],
   "source": [
    "t_err_line_filt = shear_table_rs_cuts['wmom_T'] > (0.41 - 1.4*shear_table_rs_cuts['wmom_T_err'])\n",
    "junk_obj_1 = shear_table_rs_cuts[t_err_line_filt]\n",
    "# t_t_err_filt = (shear_table_rs_cuts['wmom_T'] * shear_table_rs_cuts['wmom_T_err']) > 0.006\n",
    "# junk_obj_2 = shear_table_rs_cuts[t_t_err_filt]"
   ]
  },
  {
   "cell_type": "code",
   "execution_count": null,
   "id": "616e003d-d3f4-4363-ac18-38fb4935aad3",
   "metadata": {},
   "outputs": [],
   "source": [
    "len(junk_obj_1)"
   ]
  },
  {
   "cell_type": "markdown",
   "id": "3e19ba69-7d78-485d-b422-207dc5f69cd0",
   "metadata": {},
   "source": [
    "### Display Junk Object\n",
    "\n",
    "Code primarily from Robert Lupton's demo notebook: https://github.com/RobertLuptonTheGood/notebooks/blob/2eeee8b9fe35077387485e488c965f1ea3d39418/Demos/Colour%20Images.ipynb"
   ]
  },
  {
   "cell_type": "code",
   "execution_count": null,
   "id": "6af169d9-3fa1-47d1-ae1d-e02fba682e9c",
   "metadata": {},
   "outputs": [],
   "source": [
    "junk_obj_1[['tract', 'patch_y', 'patch_x', 'ra', 'dec']][100:150]"
   ]
  },
  {
   "cell_type": "code",
   "execution_count": null,
   "id": "99dbc75e-a750-4d1f-9b4d-962278690afa",
   "metadata": {},
   "outputs": [],
   "source": [
    "tract = 10463\n",
    "patch = 83\n",
    "\n",
    "bands = \"gri\"\n",
    "images = {}\n",
    "\n",
    "# get x, y coordinates of object in patch\n",
    "# filt_loc = junk_obj_1['tract'] == tract\n",
    "# filt_loc &= junk_obj_1['patch_y'] == 8\n",
    "# filt_loc &= junk_obj_1['patch_x'] == 3\n",
    "# filt_loc &= junk_obj_1['shear_type'] == 'ns'\n",
    "filt_loc = shear_table_wl['tract'] == tract\n",
    "filt_loc &= shear_table_wl['patch_y'] == 8\n",
    "filt_loc &= shear_table_wl['patch_x'] == 3\n",
    "filt_loc &= shear_table_wl['shear_type'] == 'ns'\n",
    "\n",
    "xys_firefly = []\n",
    "xys = []\n",
    "\n",
    "for b in bands:\n",
    "\n",
    "    coadd = butler.get(\"deepCoaddCell\", \n",
    "                    tract=tract, \n",
    "                    patch=patch, \n",
    "                    band=b, \n",
    "                    skymap='lsst_cells_v1', \n",
    "                    collections=[cell_collection, cell_collection_g])\n",
    "\n",
    "    if b=='g':\n",
    "        bbox = coadd.outer_bbox\n",
    "        for i, row in shear_table_wl[filt_loc].iterrows():\n",
    "            radecs = [row['ra'], row['dec']]\n",
    "            raDec = geom.SpherePoint(row['ra']*geom.degrees, row['dec']*geom.degrees)\n",
    "            xy_test = geom.PointI(coadd.wcs.skyToPixel(raDec))\n",
    "            xys_firefly.append(xy_test)\n",
    "            xy = xy_test - bbox.getBegin()\n",
    "            xys.append(xy)\n",
    "            \n",
    "    images[b] = coadd.stitch().asMaskedImage()\n",
    "    \n",
    "    del coadd\n",
    "    gc.collect()"
   ]
  },
  {
   "cell_type": "code",
   "execution_count": null,
   "id": "5a69d1a5-650c-433a-bbdc-8a063d2c44bf",
   "metadata": {},
   "outputs": [],
   "source": [
    "fig, ax = plt.subplots(1, 1, figsize=(12, 12))\n",
    "\n",
    "for coord in xys:\n",
    "    circle = plt.Circle((coord.getX(), coord.getY()), 50, color='cyan', fill=False)\n",
    "    ax.add_patch(circle)\n",
    "\n",
    "rgb = afwRgb.makeRGB(images['i'], images['r'], images['g'], 9, 20, Q=2)\n",
    "afwRgb.displayRGB(rgb)\n",
    "plt.show()"
   ]
  },
  {
   "cell_type": "markdown",
   "id": "803c8a47-fea0-483c-8fc5-30e71ced6353",
   "metadata": {
    "jp-MarkdownHeadingCollapsed": true
   },
   "source": [
    "### Look at objects in weak lensing sample"
   ]
  },
  {
   "cell_type": "code",
   "execution_count": null,
   "id": "0ef9ea00-ce6c-4910-956d-93bc590dda99",
   "metadata": {},
   "outputs": [],
   "source": [
    "tract = 10463\n",
    "patch = 62\n",
    "\n",
    "bands = \"gri\"\n",
    "images = {}\n",
    "\n",
    "# get x, y coordinates of object in patch\n",
    "filt_loc = shear_table_wl_ns['tract'] == tract\n",
    "filt_loc &= shear_table_wl_ns['patch_y'] == 6\n",
    "filt_loc &= shear_table_wl_ns['patch_x'] == 2\n",
    "\n",
    "xys_firefly = []\n",
    "xys = []\n",
    "\n",
    "for b in bands:\n",
    "\n",
    "    coadd = butler.get(\"deepCoaddCell\", \n",
    "                    tract=tract, \n",
    "                    patch=patch, \n",
    "                    band=b, \n",
    "                    skymap='lsst_cells_v1', \n",
    "                    collections=[cell_collection, cell_collection_g])\n",
    "\n",
    "    if b=='g':\n",
    "        bbox = coadd.outer_bbox\n",
    "        for i, row in shear_table_wl_ns[filt_loc].iterrows():\n",
    "            radecs = [row['ra'], row['dec']]\n",
    "            raDec = geom.SpherePoint(row['ra']*geom.degrees, row['dec']*geom.degrees)\n",
    "            xy_test = geom.PointI(coadd.wcs.skyToPixel(raDec))\n",
    "            xys_firefly.append(xy_test)\n",
    "            xy = xy_test - bbox.getBegin()\n",
    "            xys.append(xy)\n",
    "            \n",
    "    images[b] = coadd.stitch().asMaskedImage()\n",
    "    \n",
    "    del coadd\n",
    "    gc.collect()"
   ]
  },
  {
   "cell_type": "code",
   "execution_count": null,
   "id": "f84dc2f2-95b9-4c3f-985f-c560dffacaf5",
   "metadata": {},
   "outputs": [],
   "source": [
    "fig, ax = plt.subplots(1, 1, figsize=(12, 12))\n",
    "\n",
    "for coord in xys:\n",
    "    # circle = plt.Circle((coord.getX()-bbox.getBeginX()+50, coord.getY()-bbox.getBeginY()+50), 50, color='cyan', fill=False)\n",
    "    circle = plt.Circle((coord.getX(), coord.getY()), 50, color='cyan', fill=False)\n",
    "    ax.add_patch(circle)\n",
    "\n",
    "rgb = afwRgb.makeRGB(images['i'], images['r'], images['g'], 4, 15, Q=2)\n",
    "afwRgb.displayRGB(rgb)\n",
    "plt.show()"
   ]
  },
  {
   "cell_type": "markdown",
   "id": "5db4e4a1-7188-48bd-9544-cbe95969201d",
   "metadata": {
    "jp-MarkdownHeadingCollapsed": true
   },
   "source": [
    "### Try with firefly"
   ]
  },
  {
   "cell_type": "code",
   "execution_count": null,
   "id": "3a074f3c-2815-4f30-b42c-e98afb6d3aaf",
   "metadata": {},
   "outputs": [],
   "source": [
    "# import lsst.afw.display as afwDisplay\n",
    "# afwDisplay.setDefaultBackend('firefly')\n",
    "# display1 = afwDisplay.Display(frame=1)\n",
    "# display1.getClient().show_lab_tab\n",
    "\n",
    "# display1.mtv(coadd.stitch().image)\n",
    "# with display1.Buffering():\n",
    "#     for coord in xys:\n",
    "#         display1.dot('o', coord.getX(), coord.getY(), size=50, ctype='orange')\n",
    "\n",
    "# display1.erase()"
   ]
  },
  {
   "cell_type": "markdown",
   "id": "81198332-3283-4a33-a443-6ba404de7f63",
   "metadata": {
    "jp-MarkdownHeadingCollapsed": true
   },
   "source": [
    "## Plot distribution of cell properties in A360 region\n",
    "\n",
    "Each run of the `get_cell_inputs` function should only take 3-4 minutes. If it's longer, try again later."
   ]
  },
  {
   "cell_type": "code",
   "execution_count": null,
   "id": "5a2ef35f-fd35-410e-a3b7-d711edd7dac4",
   "metadata": {},
   "outputs": [],
   "source": [
    "from lsst.sphgeom import Box, HealpixPixelization\n",
    "import healsparse as hsp\n",
    "import healpy as hp\n",
    "from hpgeom import hpgeom\n",
    "import skyproj"
   ]
  },
  {
   "cell_type": "code",
   "execution_count": null,
   "id": "30314ac3-cba0-4614-a417-d5f2619da6be",
   "metadata": {},
   "outputs": [],
   "source": [
    "# define healpix parameters\n",
    "nside_coverage = 2**8\n",
    "nside_sparse = 2**14\n",
    "\n",
    "pixelization = HealpixPixelization(hp.nside2order(nside_sparse))"
   ]
  },
  {
   "cell_type": "code",
   "execution_count": null,
   "id": "6cf91068-62db-47dc-8613-0f83e86f330e",
   "metadata": {},
   "outputs": [],
   "source": [
    "# method find the pixel indices that overlap the sky projection of the cell area\n",
    "def get_cell_pixels(cell, wcs):\n",
    "    cell_bbox = cell.inner.bbox\n",
    "    begin_coord = wcs.pixelToSky(cell_bbox.beginX, cell_bbox.beginY)\n",
    "    end_coord = wcs.pixelToSky(cell_bbox.endX, cell_bbox.endY)\n",
    "    \n",
    "    if begin_coord.getRa() < end_coord.getRa():\n",
    "        ra1 = begin_coord.getRa().asDegrees()\n",
    "        ra2 = end_coord.getRa().asDegrees()\n",
    "    else:\n",
    "        ra1 = end_coord.getRa().asDegrees()\n",
    "        ra2 = begin_coord.getRa().asDegrees()\n",
    "    \n",
    "    if begin_coord.getDec() < end_coord.getDec():\n",
    "        dec1 = begin_coord.getDec().asDegrees()\n",
    "        dec2 = end_coord.getDec().asDegrees()\n",
    "    else:\n",
    "        dec1 = end_coord.getDec().asDegrees()\n",
    "        dec2 = begin_coord.getDec().asDegrees()\n",
    "\n",
    "    indices = hpgeom.query_box(nside=nside_sparse, a0=ra1, a1=ra2, b0=dec1, b1=dec2)\n",
    "    \n",
    "    return indices"
   ]
  },
  {
   "cell_type": "code",
   "execution_count": null,
   "id": "463cddb1-c613-465f-a8b2-bb89bc2efb4a",
   "metadata": {},
   "outputs": [],
   "source": [
    "# return PSF e magnitude of the cell\n",
    "def get_psf_e(cell, wcs):\n",
    "    # get psf image of cell\n",
    "    psf_im = cell.psf_image\n",
    "    \n",
    "    psf_kernel = afwMath.FixedKernel(psf_im)\n",
    "    psf = meas.KernelPsf(psf_kernel)\n",
    "    shape = psf.computeShape(psf_im.getBBox().getCenter())\n",
    "    \n",
    "    i_xx, i_yy, i_xy = shape.getIxx(), shape.getIyy(), shape.getIxy()\n",
    "    \n",
    "    q = Quadrupole(i_xx, i_yy, i_xy)\n",
    "    s = SeparableDistortionTraceRadius(q)\n",
    "    \n",
    "    e1, e2 = s.getE1(), s.getE2()\n",
    "    e = np.sqrt(e1**2 + e2**2)\n",
    "    \n",
    "    return e"
   ]
  },
  {
   "cell_type": "code",
   "execution_count": null,
   "id": "fbb948c9-1b27-4a37-90b9-9b031c717214",
   "metadata": {},
   "outputs": [],
   "source": [
    "def get_cell_inputs(cell_collection, tract_patch_list, band):\n",
    "\n",
    "    cell_df = pd.DataFrame()\n",
    "    cell_ra = []\n",
    "    cell_dec = []\n",
    "    pixel_indices = []\n",
    "    inputs_list = []\n",
    "    psf_e_list = []\n",
    "\n",
    "    segs = [] # collection of lines to plot patch outlines\n",
    "\n",
    "    for tract, patch in tract_patch_list:\n",
    "    \n",
    "        coadd = butler.get('deepCoaddCell', \n",
    "                         collections = cell_collection, \n",
    "                         instrument = 'LSSTComCam', \n",
    "                         skymap = 'lsst_cells_v1', \n",
    "                         tract = tract, \n",
    "                         patch = patch,\n",
    "                         band = band,)\n",
    "        # define a wcs from the given coadd\n",
    "        wcs = coadd.wcs\n",
    "\n",
    "        # get coadd outline\n",
    "        coadd_corners = coadd.inner_bbox.getCorners()\n",
    "    \n",
    "        for index, corner in enumerate(coadd_corners):\n",
    "            corner_coord_start = wcs.pixelToSky(corner.getX(), corner.getY())\n",
    "            if index < 3:\n",
    "                corner_coord_end = wcs.pixelToSky(coadd_corners[index+1].getX(), coadd_corners[index+1].getY())\n",
    "            else:\n",
    "                corner_coord_end = wcs.pixelToSky(coadd_corners[0].getX(), coadd_corners[0].getY())\n",
    "    \n",
    "            start_ra = corner_coord_start[0].asDegrees()\n",
    "            start_dec = corner_coord_start[1].asDegrees()\n",
    "    \n",
    "            end_ra = corner_coord_end[0].asDegrees()\n",
    "            end_dec = corner_coord_end[1].asDegrees()\n",
    "    \n",
    "            segs.append(((start_ra, start_dec), (end_ra, end_dec)))\n",
    "        \n",
    "        cell_list = list(coadd.cells.keys()) # skips indices that are empty\n",
    "\n",
    "        # for each cell in cell_list:\n",
    "        for index, cell_index in enumerate(cell_list):\n",
    "    \n",
    "            cell = coadd.cells[cell_index]\n",
    "    \n",
    "            # get cell coordinates for removing duplicates\n",
    "            cell_center = cell.inner.bbox.getCenter()\n",
    "            cell_center_coord = wcs.pixelToSky(cell_center)\n",
    "            cell_ra.append(cell_center_coord.getRa().asDegrees())\n",
    "            cell_dec.append(cell_center_coord.getDec().asDegrees())\n",
    "        \n",
    "            pixel_indices.append(get_cell_pixels(cell, wcs))\n",
    "    \n",
    "            inputs_list.append(cell.visit_count)\n",
    "            psf_e_list.append(get_psf_e(cell, wcs))\n",
    "    \n",
    "        del coadd\n",
    "        gc.collect()\n",
    "\n",
    "    cell_df[\"ra\"] = cell_ra\n",
    "    cell_df[\"dec\"] = cell_dec\n",
    "    cell_df[\"pixels\"] = pixel_indices\n",
    "    cell_df[\"inputs\"] = inputs_list\n",
    "    cell_df[\"psf_e\"] = psf_e_list\n",
    "\n",
    "    return cell_df, segs"
   ]
  },
  {
   "cell_type": "markdown",
   "id": "836d8003-b637-4ee5-8c18-90faf907072c",
   "metadata": {
    "jp-MarkdownHeadingCollapsed": true
   },
   "source": [
    "#### g-band"
   ]
  },
  {
   "cell_type": "code",
   "execution_count": null,
   "id": "c600e4cd-0935-42cb-a1db-7c5b9942e948",
   "metadata": {},
   "outputs": [],
   "source": [
    "cell_df_g, segs_g = get_cell_inputs(cell_collection_g, tract_patch_list, 'g')"
   ]
  },
  {
   "cell_type": "code",
   "execution_count": null,
   "id": "4555a95f-2e16-4e3a-a867-fe4b74e7d0d2",
   "metadata": {},
   "outputs": [],
   "source": [
    "# remove duplicate cells from overlapping patches\n",
    "cell_df_g = cell_df_g.drop_duplicates(subset=['ra', 'dec'])"
   ]
  },
  {
   "cell_type": "code",
   "execution_count": null,
   "id": "e8834490-aade-4e86-a0e9-e0b365693c95",
   "metadata": {},
   "outputs": [],
   "source": [
    "pixel_df_g = cell_df_g.explode('pixels').reset_index(drop=True)\n",
    "pixel_df_g = pixel_df_g.drop_duplicates(subset=[\"pixels\"]) \n",
    "pixel_df_g = pixel_df_g.dropna(subset=['pixels'])\n",
    "\n",
    "pixels_g = pixel_df_g[\"pixels\"].to_numpy()\n",
    "pixel_input_g = pixel_df_g[\"inputs\"].to_numpy()\n",
    "pixel_psf_e_g = pixel_df_g[\"psf_e\"].to_numpy()"
   ]
  },
  {
   "cell_type": "code",
   "execution_count": null,
   "id": "183a9364-d99e-4c6f-849d-0bc17e2f54c1",
   "metadata": {},
   "outputs": [],
   "source": [
    "hsp_map_input_g = hsp.HealSparseMap.make_empty(nside_coverage, nside_sparse, np.int64)\n",
    "hsp_map_input_g.update_values_pix(np.array(pixels_g, dtype=np.int64), np.array(pixel_input_g))\n",
    "\n",
    "hsp_map_psf_e_g = hsp.HealSparseMap.make_empty(nside_coverage, nside_sparse, np.float64)\n",
    "hsp_map_psf_e_g.update_values_pix(np.array(pixels_g, dtype=np.int64), np.array(pixel_psf_e_g))"
   ]
  },
  {
   "cell_type": "markdown",
   "id": "99b56ad3-3277-455d-bc39-5fd36aef967b",
   "metadata": {
    "jp-MarkdownHeadingCollapsed": true
   },
   "source": [
    "#### r-band"
   ]
  },
  {
   "cell_type": "code",
   "execution_count": null,
   "id": "e4c66f9a-e8c6-49c2-9f96-2efedaf051b0",
   "metadata": {},
   "outputs": [],
   "source": [
    "cell_df_r, segs_r = get_cell_inputs(cell_collection, tract_patch_list, 'r')"
   ]
  },
  {
   "cell_type": "code",
   "execution_count": null,
   "id": "1f0aeb3c-b03a-4d15-9411-11c6de67fa93",
   "metadata": {},
   "outputs": [],
   "source": [
    "# remove duplicate cells from overlapping patches\n",
    "cell_df_r = cell_df_r.drop_duplicates(subset=['ra', 'dec'])"
   ]
  },
  {
   "cell_type": "code",
   "execution_count": null,
   "id": "b99a0f44-a8a8-476d-9d3f-1ded64229024",
   "metadata": {},
   "outputs": [],
   "source": [
    "pixel_df_r = cell_df_r.explode('pixels').reset_index(drop=True)\n",
    "pixel_df_r = pixel_df_r.drop_duplicates(subset=[\"pixels\"]) \n",
    "pixel_df_r = pixel_df_r.dropna(subset=['pixels'])\n",
    "\n",
    "pixels_r = pixel_df_r[\"pixels\"].to_numpy()\n",
    "pixel_input_r = pixel_df_r[\"inputs\"].to_numpy()\n",
    "pixel_psf_e_r = pixel_df_r[\"psf_e\"].to_numpy()"
   ]
  },
  {
   "cell_type": "code",
   "execution_count": null,
   "id": "410e3365-ea3b-4563-acf3-0b2400c628aa",
   "metadata": {},
   "outputs": [],
   "source": [
    "hsp_map_input_r = hsp.HealSparseMap.make_empty(nside_coverage, nside_sparse, np.int64)\n",
    "hsp_map_input_r.update_values_pix(np.array(pixels_r, dtype=np.int64), np.array(pixel_input_r))\n",
    "\n",
    "hsp_map_psf_e_r = hsp.HealSparseMap.make_empty(nside_coverage, nside_sparse, np.float64)\n",
    "hsp_map_psf_e_r.update_values_pix(np.array(pixels_r, dtype=np.int64), np.array(pixel_psf_e_r))"
   ]
  },
  {
   "cell_type": "markdown",
   "id": "5d6d9620-0023-4d60-a641-e458969d350e",
   "metadata": {
    "jp-MarkdownHeadingCollapsed": true
   },
   "source": [
    "#### i-band"
   ]
  },
  {
   "cell_type": "code",
   "execution_count": null,
   "id": "92fbfa1e-bab7-4ad6-8775-732ff9e838bd",
   "metadata": {},
   "outputs": [],
   "source": [
    "cell_df_i, segs_i = get_cell_inputs(cell_collection, tract_patch_list, 'i')"
   ]
  },
  {
   "cell_type": "code",
   "execution_count": null,
   "id": "7be29066-3747-446a-adc9-95335d9e8f41",
   "metadata": {},
   "outputs": [],
   "source": [
    "# remove duplicate cells from overlapping patches\n",
    "cell_df_i = cell_df_i.drop_duplicates(subset=['ra', 'dec'])"
   ]
  },
  {
   "cell_type": "code",
   "execution_count": null,
   "id": "772a7855-9e7e-42d9-9a9e-aac981f0f6cd",
   "metadata": {},
   "outputs": [],
   "source": [
    "pixel_df_i = cell_df_i.explode('pixels').reset_index(drop=True)\n",
    "pixel_df_i = pixel_df_i.drop_duplicates(subset=[\"pixels\"]) \n",
    "pixel_df_i = pixel_df_i.dropna(subset=['pixels'])\n",
    "\n",
    "pixels_i = pixel_df_i[\"pixels\"].to_numpy()\n",
    "pixel_input_i = pixel_df_i[\"inputs\"].to_numpy()\n",
    "pixel_psf_e_i = pixel_df_i[\"psf_e\"].to_numpy()"
   ]
  },
  {
   "cell_type": "code",
   "execution_count": null,
   "id": "6134dd2f-f0eb-4cc1-ae03-778992e27f2c",
   "metadata": {},
   "outputs": [],
   "source": [
    "hsp_map_input_i = hsp.HealSparseMap.make_empty(nside_coverage, nside_sparse, np.int64)\n",
    "hsp_map_input_i.update_values_pix(np.array(pixels_i, dtype=np.int64), np.array(pixel_input_i))\n",
    "\n",
    "hsp_map_psf_e_i = hsp.HealSparseMap.make_empty(nside_coverage, nside_sparse, np.float64)\n",
    "hsp_map_psf_e_i.update_values_pix(np.array(pixels_i, dtype=np.int64), np.array(pixel_psf_e_i))"
   ]
  },
  {
   "cell_type": "markdown",
   "id": "b3c11d07-a324-4f25-8741-492790cf06a4",
   "metadata": {},
   "source": [
    "#### Input Distribution Plot"
   ]
  },
  {
   "cell_type": "markdown",
   "id": "8e8c1ade-3280-4d7d-92c9-6c190ca95196",
   "metadata": {},
   "source": [
    "The three missing patches were due to pipeline failures, though are not included within the 0.5 degree radius of the BCG"
   ]
  },
  {
   "cell_type": "code",
   "execution_count": null,
   "id": "8bf5b7dd-a56c-4f22-9735-5c68b4655a54",
   "metadata": {},
   "outputs": [],
   "source": [
    "fig, ax = plt.subplots(1, 3, figsize=(18, 5.3))\n",
    "sp_g = skyproj.GnomonicSkyproj(ax=ax[0], lon_0=37.862, lat_0=6.98, min_lon_ticklabel_delta=0.2)\n",
    "sp_g.draw_hspmap(hsp_map_input_g, vmin=1, vmax=pixel_input_i.max())\n",
    "sp_g.ax.circle(ra_bcg, dec_bcg, 0.5, color='cyan')\n",
    "sp_g.ax.set_xlabel(\"RA (deg)\", fontsize=10,)\n",
    "sp_g.ax.set_ylabel(\"DEC (deg)\", fontsize=10,)\n",
    "sp_g.draw_colorbar(shrink=0.8, label='Number of input warps per cell')\n",
    "sp_g.ax.set_title(\"g-band\", pad=25)\n",
    "for seg in segs_g:\n",
    "    sp_g.ax.plot([seg[0][0], seg[1][0]], [seg[0][1], seg[1][1]], 'r-', alpha=0.6)\n",
    "\n",
    "sp_r = skyproj.GnomonicSkyproj(ax=ax[1], lon_0=37.862, lat_0=6.98, min_lon_ticklabel_delta=0.2)\n",
    "sp_r.draw_hspmap(hsp_map_input_r, vmin=1, vmax=pixel_input_i.max())\n",
    "sp_r.ax.circle(ra_bcg, dec_bcg, 0.5, color='cyan')\n",
    "sp_r.ax.set_xlabel(\"RA (deg)\", fontsize=10,)\n",
    "sp_r.ax.set_ylabel(\"DEC (deg)\", fontsize=10,)\n",
    "sp_r.draw_colorbar(shrink=0.8, label='Number of input warps per cell')\n",
    "sp_r.ax.set_title(\"r-band\", pad=25)\n",
    "for seg in segs_r:\n",
    "    sp_r.ax.plot([seg[0][0], seg[1][0]], [seg[0][1], seg[1][1]], 'r-', alpha=0.6)\n",
    "    \n",
    "sp_i = skyproj.GnomonicSkyproj(ax=ax[2], lon_0=37.862, lat_0=6.98, min_lon_ticklabel_delta=0.2)\n",
    "sp_i.draw_hspmap(hsp_map_input_i, vmin=1, vmax=pixel_input_i.max())\n",
    "sp_i.ax.circle(ra_bcg, dec_bcg, 0.5, color='cyan')\n",
    "sp_i.ax.set_xlabel(\"RA (deg)\", fontsize=10,)\n",
    "sp_i.ax.set_ylabel(\"DEC (deg)\", fontsize=10,)\n",
    "sp_i.draw_colorbar(shrink=0.8, label='Number of input warps per cell')\n",
    "sp_i.ax.set_title(\"i-band\", pad=25)\n",
    "for seg in segs_i:\n",
    "    sp_i.ax.plot([seg[0][0], seg[1][0]], [seg[0][1], seg[1][1]], 'r-', alpha=0.6)\n",
    "\n",
    "plt.suptitle(\"Input Image Distribution of the A360 Region\", size=15)\n",
    "\n",
    "plt.savefig('image_outputs_fix/3_band_image_distribution.png', bbox_inches='tight')\n",
    "plt.show()"
   ]
  },
  {
   "cell_type": "markdown",
   "id": "ad1f4d12-df51-46ba-bb8c-38969ff1747e",
   "metadata": {},
   "source": [
    "#### PSF Ellipticity Distribution Plot"
   ]
  },
  {
   "cell_type": "code",
   "execution_count": null,
   "id": "7add9b09-c642-4d70-bc18-64ba8c6b753e",
   "metadata": {},
   "outputs": [],
   "source": [
    "# mean PSF ellipticies for each band\n",
    "print(\"Mean PSF ellipticity in g-band: \", pixel_psf_e_g.mean())\n",
    "print(\"Mean PSF ellipticity in r-band: \", pixel_psf_e_r.mean())\n",
    "print(\"Mean PSF ellipticity in i-band: \", pixel_psf_e_i.mean())\n",
    "print()\n",
    "# median PSF ellipticies for each band\n",
    "print(\"Median PSF ellipticity in g-band: \", np.median(pixel_psf_e_g))\n",
    "print(\"Median PSF ellipticity in r-band: \", np.median(pixel_psf_e_r))\n",
    "print(\"Median PSF ellipticity in i-band: \", np.median(pixel_psf_e_i))"
   ]
  },
  {
   "cell_type": "code",
   "execution_count": null,
   "id": "87101407-2787-4a21-bb6e-645055f2ed22",
   "metadata": {},
   "outputs": [],
   "source": [
    "# get minimum / maximum PSF ellipticities for a consistent colorbar\n",
    "print(pixel_psf_e_g.min())\n",
    "print(pixel_psf_e_r.min())\n",
    "print(pixel_psf_e_i.min())\n",
    "\n",
    "print(pixel_psf_e_g.max())\n",
    "print(pixel_psf_e_r.max())\n",
    "print(pixel_psf_e_i.max())"
   ]
  },
  {
   "cell_type": "code",
   "execution_count": null,
   "id": "efe6f72d-f873-406d-8c36-c81221a219de",
   "metadata": {},
   "outputs": [],
   "source": [
    "fig, ax = plt.subplots(1, 3, figsize=(19.5, 5.5))\n",
    "sp_g = skyproj.GnomonicSkyproj(ax=ax[0], lon_0=37.862, lat_0=6.98, min_lon_ticklabel_delta=0.2)\n",
    "sp_g.draw_hspmap(hsp_map_psf_e_g, vmin=0, vmax=pixel_psf_e_i.max())\n",
    "sp_g.ax.set_xlabel(\"RA (deg)\", fontsize=10,)\n",
    "sp_g.ax.set_ylabel(\"DEC (deg)\", fontsize=10,)\n",
    "sp_g.draw_colorbar(shrink=0.9, label='PSF Ellipticity Modulus')\n",
    "sp_g.ax.set_title(\"g-band\", pad=25)\n",
    "for seg in segs_g:\n",
    "    sp_g.ax.plot([seg[0][0], seg[1][0]], [seg[0][1], seg[1][1]], 'r-', alpha=0.6)\n",
    "\n",
    "sp_r = skyproj.GnomonicSkyproj(ax=ax[1], lon_0=37.862, lat_0=6.98, min_lon_ticklabel_delta=0.2)\n",
    "sp_r.draw_hspmap(hsp_map_psf_e_r, vmin=0, vmax=pixel_psf_e_i.max())\n",
    "sp_r.ax.set_xlabel(\"RA (deg)\", fontsize=10,)\n",
    "sp_r.ax.set_ylabel(\"DEC (deg)\", fontsize=10,)\n",
    "sp_r.draw_colorbar(shrink=0.9, label='PSF Ellipticity Modulus')\n",
    "sp_r.ax.set_title(\"r-band\", pad=25)\n",
    "for seg in segs_r:\n",
    "    sp_r.ax.plot([seg[0][0], seg[1][0]], [seg[0][1], seg[1][1]], 'r-', alpha=0.6)\n",
    "    \n",
    "sp_i = skyproj.GnomonicSkyproj(ax=ax[2], lon_0=37.862, lat_0=6.98, min_lon_ticklabel_delta=0.2)\n",
    "sp_i.draw_hspmap(hsp_map_psf_e_i, vmin=0, vmax=pixel_psf_e_i.max())\n",
    "sp_i.ax.set_xlabel(\"RA (deg)\", fontsize=10,)\n",
    "sp_i.ax.set_ylabel(\"DEC (deg)\", fontsize=10,)\n",
    "sp_i.draw_colorbar(shrink=0.9, label='PSF Ellipticity Modulus')\n",
    "sp_i.ax.set_title(\"i-band\", pad=25)\n",
    "for seg in segs_i:\n",
    "    sp_i.ax.plot([seg[0][0], seg[1][0]], [seg[0][1], seg[1][1]], 'r-', alpha=0.6)\n",
    "\n",
    "plt.suptitle(\"PSF Ellipticity Distribution of the A360 Region\", size=15)\n",
    "\n",
    "plt.savefig('image_outputs_fix/3_band_psf_e_distribution.png', bbox_inches='tight')\n",
    "plt.show()"
   ]
  },
  {
   "cell_type": "markdown",
   "id": "8262f5d4-dd9b-411c-a376-d253a91bd8b1",
   "metadata": {
    "jp-MarkdownHeadingCollapsed": true
   },
   "source": [
    "## Investigate Patch Failures"
   ]
  },
  {
   "cell_type": "code",
   "execution_count": null,
   "id": "d351eb62-468a-4117-a9cd-f7fef588e7ad",
   "metadata": {},
   "outputs": [],
   "source": [
    "meta_log = 0\n",
    "meta_log_ids = []\n",
    "for ref in butler.registry.queryDatasets('metadetectionShear_log', collections=collection):\n",
    "    meta_log += 1\n",
    "    meta_log_ids.append(ref.dataId)\n",
    "\n",
    "    patch_log = butler.get('metadetectionShear_log', \n",
    "                     collections = collection, \n",
    "                     instrument = 'LSSTComCam', \n",
    "                     skymap = 'lsst_cells_v1', \n",
    "                     tract = ref.dataId['tract'], \n",
    "                     patch = ref.dataId['patch'],\n",
    "                     band = 'i')\n",
    "    \n",
    "    patch_error = [log['message'] for log in patch_log.model_dump() if log['levelname'] == 'ERROR']\n",
    "    if len(patch_error) > 0:\n",
    "        print(patch_error)"
   ]
  },
  {
   "cell_type": "markdown",
   "id": "d142cb40-c2bf-4d08-8d30-2e899ea245f8",
   "metadata": {
    "jp-MarkdownHeadingCollapsed": true
   },
   "source": [
    "## HSM Catalog\n",
    "\n",
    "HSM catalog after first reading in:  183791 \\\n",
    "HSM catalog after removing RS:  104257 \\\n",
    "HSM source galaxy sample:  24362"
   ]
  },
  {
   "cell_type": "code",
   "execution_count": null,
   "id": "30e78a81-961c-49ce-8355-38f77b3c1307",
   "metadata": {},
   "outputs": [],
   "source": [
    "repo_hsm = '/repo/main'\n",
    "collection_hsm = 'LSSTComCam/runs/DRP/DP1/w_2025_08/DM-49029'\n",
    "butler_hsm = Butler(repo_hsm, collections=collection_hsm)\n",
    "\n",
    "datasetType = 'objectTable'\n",
    "merged_cat = pd.DataFrame()\n",
    "\n",
    "skymap = butler_hsm.get('skyMap', skymap='lsst_cells_v1')\n",
    "\n",
    "# Position of the BCG for A360\n",
    "ra_bcg = 37.862\n",
    "dec_bcg = 6.98\n",
    "\n",
    "# Looking for all patches in delta deg region around it\n",
    "delta = 0.5\n",
    "center = geom.SpherePoint(ra_bcg, dec_bcg, geom.degrees)\n",
    "ra_min, ra_max = ra_bcg - delta, ra_bcg + delta\n",
    "dec_min, dec_max = dec_bcg - delta, dec_bcg + delta\n",
    "\n",
    "ra_range = (ra_min, ra_max)\n",
    "dec_range = (dec_min, dec_max)\n",
    "radec = [geom.SpherePoint(ra_range[0], dec_range[0], geom.degrees),\n",
    "         geom.SpherePoint(ra_range[0], dec_range[1], geom.degrees),\n",
    "         geom.SpherePoint(ra_range[1], dec_range[0], geom.degrees),\n",
    "         geom.SpherePoint(ra_range[1], dec_range[1], geom.degrees)]\n",
    "\n",
    "tracts_and_patches = skymap.findTractPatchList(radec)\n",
    "\n",
    "tp_dict = {}\n",
    "for tract_num in np.arange(len(tracts_and_patches)):\n",
    "    tract_info = tracts_and_patches[tract_num][0]\n",
    "    tract_idx = tract_info.getId()\n",
    "    # All the patches around the cluster\n",
    "    patches = []\n",
    "    for i,patch in enumerate(tracts_and_patches[tract_num][1]):\n",
    "        patch_info = tracts_and_patches[tract_num][1][i]\n",
    "        patch_idx = patch_info.sequential_index\n",
    "        patches.append(patch_idx)\n",
    "    tp_dict.update({tract_idx:patches})\n",
    "\n",
    "for tract in tp_dict.keys():\n",
    "    print(f'Loading objects from tract {tract}, patches:{tp_dict[tract]}')\n",
    "    for patch in tp_dict[tract]:\n",
    "        dataId = {'tract': tract, 'patch' : patch ,'skymap':'lsst_cells_v1'}\n",
    "        obj_cat = butler_hsm.get(datasetType, dataId=dataId)\n",
    "        filt = obj_cat['detect_isPrimary']==True\n",
    "        filt &= obj_cat['r_cModel_flag']== False\n",
    "        filt &= obj_cat['i_cModel_flag']== False\n",
    "        filt &= obj_cat['r_cModelFlux']>0\n",
    "        filt &= obj_cat['i_cModelFlux']>0\n",
    "        filt &= obj_cat['refExtendedness'] > 0.5\n",
    "\n",
    "        merged_cat = pd.concat([merged_cat, obj_cat[filt]], ignore_index=True)"
   ]
  },
  {
   "cell_type": "code",
   "execution_count": null,
   "id": "8d2ba6e1-9e0a-4e8d-a3e9-8bedf189a548",
   "metadata": {},
   "outputs": [],
   "source": [
    "print(\"HSM catalog after first reading in: \", len(merged_cat))"
   ]
  },
  {
   "cell_type": "markdown",
   "id": "e5ddd4a3-6762-4ff9-a7d3-518a04149a98",
   "metadata": {},
   "source": [
    "HSM catalog after first reading in:  183791"
   ]
  },
  {
   "cell_type": "code",
   "execution_count": null,
   "id": "f5aa55a1-3e83-4b32-91db-1d4a8e504d81",
   "metadata": {},
   "outputs": [],
   "source": [
    "# RS removal\n",
    "import astropy.units as u\n",
    "from astropy.coordinates import SkyCoord\n",
    "\n",
    "merged_cat = merged_cat.copy()\n",
    "\n",
    "c1 = SkyCoord(merged_cat['coord_ra'].values*u.deg, merged_cat['coord_dec'].values*u.deg)\n",
    "c2 = SkyCoord(ra_bcg*u.deg, dec_bcg*u.deg)\n",
    "sep = c1.separation(c2)\n",
    "\n",
    "merged_cat['mag_i'] = -2.50 * np.log10(merged_cat['i_cModelFlux']) + 31.4\n",
    "merged_cat['mag_r'] = -2.50 * np.log10(merged_cat['r_cModelFlux']) + 31.4\n",
    "\n",
    "color_ri = merged_cat['mag_r'] - merged_cat['mag_i']\n",
    "rs_hi = 0.6 - (0.1/5.) * (merged_cat['mag_r']-19)\n",
    "rs_low = 0.4 - (0.1/5.)* (merged_cat['mag_r']-19)\n",
    "\n",
    "hsm_rs = ((color_ri > rs_low) * (color_ri < rs_hi) * (merged_cat['mag_r'] < 23))\n",
    "\n",
    "filt = sep.deg < 0.5\n",
    "filt &= ~hsm_rs\n",
    "\n",
    "merged_cat_wl = merged_cat[filt]\n",
    "\n",
    "print(\"HSM catalog after removing RS: \", len(merged_cat_wl))"
   ]
  },
  {
   "cell_type": "markdown",
   "id": "59f2ae1d-b79e-4717-a671-4c1b1ae5e5a6",
   "metadata": {},
   "source": [
    "HSM catalog after removing RS:  104257"
   ]
  },
  {
   "cell_type": "code",
   "execution_count": null,
   "id": "546a4a3f-237e-4ff4-832b-1f6e278b52db",
   "metadata": {},
   "outputs": [],
   "source": [
    "# Filters to keep sources with good-quality measured shape in i band\n",
    "source_filt = np.isfinite(merged_cat_wl['i_hsmShapeRegauss_e1'])\n",
    "source_filt &= np.isfinite(merged_cat_wl['i_hsmShapeRegauss_e2'])\n",
    "source_filt &= np.sqrt(merged_cat_wl['i_hsmShapeRegauss_e1']**2 + merged_cat_wl['i_hsmShapeRegauss_e2']**2) < 4\n",
    "source_filt &= merged_cat_wl['i_hsmShapeRegauss_sigma']<= 0.4 \n",
    "source_filt &= merged_cat_wl['i_hsmShapeRegauss_flag'] == 0\n",
    "source_filt &= merged_cat_wl['i_blendedness'] < 0.42\n",
    "source_filt &= merged_cat_wl['i_iPSF_flag']==0\n",
    "\n",
    "res = 1 - (merged_cat_wl['i_ixxPSF']+ merged_cat_wl['i_iyyPSF']) / (merged_cat_wl['i_ixx']+ merged_cat_wl['i_iyy'])\n",
    "source_filt &= res >= 0.3\n",
    "\n",
    "source_filt &= merged_cat['mag_i'] <= 24.5\n",
    "source_filt &= merged_cat['mag_i'] > 20. # to remove the brightest objects that are likely foreground objects\n",
    "\n",
    "merged_cat_wl = merged_cat_wl['coord_ra'][source_filt]\n",
    "\n",
    "print(\"HSM source galaxy sample: \", len(merged_cat_wl))"
   ]
  },
  {
   "cell_type": "markdown",
   "id": "5c967bc2-0607-453b-91db-545129770b19",
   "metadata": {
    "jp-MarkdownHeadingCollapsed": true
   },
   "source": [
    "## Look at shear profile with no calibration"
   ]
  },
  {
   "cell_type": "code",
   "execution_count": null,
   "id": "2fbeb721-53ca-45fa-ab6f-47ab7ee5a653",
   "metadata": {},
   "outputs": [],
   "source": [
    "# bin tangential and cross shears by radial bins\n",
    "tan_cross_shears = np.zeros((len(bins_mpc)-1, 2)) # binned tangential and cross shear\n",
    "mean_mpc = []\n",
    "tan_errs = []\n",
    "cross_errs = []\n",
    "\n",
    "for i in range(0, len(bins_mpc)-1):\n",
    "    bin_filt_ns = dig_mpc_bins_ns == i+1\n",
    "\n",
    "    # print number of galaxies in each bin\n",
    "    print(\"Rows in bin \", i, \" :\", len(shear_table_wl_ns['shear_t'][bin_filt_ns]))\n",
    "\n",
    "    # calulcate mean t and x shears\n",
    "    mean_g_t = shear_table_wl_ns['shear_t'][bin_filt_ns].mean() # mean g1\n",
    "    mean_g_x = shear_table_wl_ns['shear_x'][bin_filt_ns].mean() # mean g2\n",
    "\n",
    "    # calculate errors, 95% confidence interval\n",
    "    g_t_err = stats.bootstrap([shear_table_wl_ns['shear_t'][bin_filt_ns]], np.mean).confidence_interval\n",
    "    g_x_err = stats.bootstrap([shear_table_wl_ns['shear_x'][bin_filt_ns]], np.mean).confidence_interval\n",
    "\n",
    "    tan_err = [g_t_err.low, g_t_err.high]\n",
    "    cross_err = [g_x_err.low, g_x_err.high]\n",
    "    \n",
    "    # apply calibration \n",
    "    gs = [mean_g_t, mean_g_x]\n",
    "\n",
    "    tan_cross_shears[i] = gs\n",
    "    tan_errs.append(tan_err)\n",
    "    cross_errs.append(cross_err)\n",
    "\n",
    "    # get the mean distance from BCG\n",
    "    mean_deg_sep = shear_table_wl_ns['deg_sep'][bin_filt_ns].mean()\n",
    "    mean_mpc_sep = cosmo.eval_da(0.22) * mean_deg_sep * np.pi/180\n",
    "    mean_mpc.append(mean_mpc_sep)\n",
    "\n",
    "tan_errs = np.array(tan_errs)\n",
    "cross_errs = np.array(cross_errs)"
   ]
  },
  {
   "cell_type": "code",
   "execution_count": null,
   "id": "95646d88-a683-4e14-9f90-68edb1aad03a",
   "metadata": {},
   "outputs": [],
   "source": [
    "galcat = GCData()\n",
    "galcat['ra'] = shear_table_wl_ns['ra']\n",
    "galcat['dec'] = shear_table_wl_ns['dec']\n",
    "galcat['e1'] = shear_table_wl_ns['wmom_g_1'] * 2\n",
    "galcat['e2'] = shear_table_wl_ns['wmom_g_2'] * 2\n",
    "\n",
    "galcat['z'] = np.zeros(len(shear_table_wl_ns)) # CLMM needs a redshift column for the source, even if not used\n",
    "\n",
    "cluster_id = \"Abell 360\"\n",
    "gc_object1 = clmm.GalaxyCluster(cluster_id, ra_bcg, dec_bcg, 0.22, galcat, coordinate_system='euclidean')\n",
    "\n",
    "gc_object1.compute_galaxy_weights(\n",
    "        shape_component1=\"e1\",\n",
    "        shape_component2=\"e2\",\n",
    "        use_shape_error=False,\n",
    "        use_shape_noise=True,\n",
    "        weight_name=\"w_ls\",\n",
    "        cosmo=cosmo,\n",
    "        add=True,\n",
    "    )\n",
    "\n",
    "moo = clmm.Modeling(massdef=\"mean\", delta_mdef=500, halo_profile_model=\"nfw\")\n",
    "\n",
    "moo.set_cosmo(cosmo)\n",
    "moo.set_concentration(4)\n",
    "moo.set_mass(4.0e14)\n",
    "\n",
    "z_cl = gc_object1.z\n",
    "\n",
    "# source properties\n",
    "# assume sources redshift following a the DESC SRD distribution. This will need updating.\n",
    "\n",
    "z_distrib_func = utils.redshift_distributions.desc_srd  \n",
    "\n",
    "# Compute first beta (e.g. eq(6) of WtGIII paper)\n",
    "beta_kwargs = {\n",
    "    \"z_cl\": z_cl,\n",
    "    \"z_inf\": 10.0,\n",
    "    \"cosmo\": cosmo,\n",
    "    \"z_distrib_func\": z_distrib_func,\n",
    "}\n",
    "beta_s_mean = utils.compute_beta_s_mean_from_distribution(**beta_kwargs)\n",
    "beta_s_square_mean = utils.compute_beta_s_square_mean_from_distribution(**beta_kwargs)\n",
    "\n",
    "rproj = np.logspace(np.log10(0.3),np.log10(7.), 100)\n",
    "\n",
    "gt_z = moo.eval_reduced_tangential_shear(\n",
    "    rproj, z_cl, [beta_s_mean, beta_s_square_mean], z_src_info=\"beta\", approx=\"order2\"\n",
    ")"
   ]
  },
  {
   "cell_type": "code",
   "execution_count": null,
   "id": "8f9a9d5d-4549-420d-917b-92ba94ff7c38",
   "metadata": {},
   "outputs": [],
   "source": [
    "fig, axes = plt.subplots(1,1, figsize=(8,6))\n",
    "\n",
    "point_size = 40\n",
    "point_alpha = 1\n",
    "\n",
    "# g1 calibrated\n",
    "axes.scatter(mean_mpc, tan_cross_shears[:,0],\n",
    "             marker='.', s=point_size, label='tangential shear')\n",
    "axes.plot(mean_mpc, tan_cross_shears[:,0], '-o')\n",
    "axes.vlines(mean_mpc, tan_errs[:,0], tan_errs[:,1], colors='blue')\n",
    "\n",
    "cross_axis = np.add(mean_mpc, 0.05) # add offset to visually differentiate\n",
    "\n",
    "axes.scatter(cross_axis, tan_cross_shears[:,1],\n",
    "             marker='.', s=point_size, label='cross shear')\n",
    "axes.plot(cross_axis, tan_cross_shears[:,1], '-o')\n",
    "axes.vlines(cross_axis, cross_errs[:,0], cross_errs[:,1], colors='orange')\n",
    "\n",
    "plt.axhline(0.0, color='k', ls=':')\n",
    "\n",
    "plt.plot(rproj, gt_z, label='NFW (model, not fit), M500c=4e14 Msun, c=4, n(z)=SRD', ls=':')\n",
    "\n",
    "plt.xscale('log')\n",
    "plt.axhline(0.0, color='k', ls=':')\n",
    "# plt.ylim([-0.03,0.08])\n",
    "plt.ylim([-0.07,0.09])\n",
    "plt.xlim([0.3,7])\n",
    "#plt.yscale('log')\n",
    "axes.set_xlabel('R [Mpc]')\n",
    "axes.set_ylabel(\"reduced shear\")\n",
    "axes.legend(loc=1)\n",
    "\n",
    "plt.savefig('image_outputs_fix/shear-no-cal.png', bbox_inches='tight')\n",
    "plt.show()"
   ]
  }
 ],
 "metadata": {
  "kernelspec": {
   "display_name": "LSST",
   "language": "python",
   "name": "lsst"
  },
  "language_info": {
   "codemirror_mode": {
    "name": "ipython",
    "version": 3
   },
   "file_extension": ".py",
   "mimetype": "text/x-python",
   "name": "python",
   "nbconvert_exporter": "python",
   "pygments_lexer": "ipython3",
   "version": "3.12.11"
  }
 },
 "nbformat": 4,
 "nbformat_minor": 5
}
